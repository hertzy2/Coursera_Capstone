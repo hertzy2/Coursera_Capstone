{
 "cells": [
  {
   "cell_type": "markdown",
   "metadata": {
    "collapsed": true
   },
   "source": [
    "# <h3>Assignment # 2: </h3><h1>Segmenting and Clustering Neighborhoods in Toronto</h1>\n",
    "<h5>by</h5><h3>Frantzdy Hervé</h3> \n",
    "<dl> </dl>\n",
    "  <dl>\n",
    "  <dt>Summary:</dt>\n",
    "  <dd>1. First, we start by creating a new Notebook for this assignment;</dd>\n",
    "  <dd>2. Second, we use the Notebook to build the code to scrape a given Wikipedia page;</dd>\n",
    "  <dd>3. Third, create the relevant Dataframe;</dd>\n",
    "  <dd>4. Finally, we submit a link to our Notebook on our Github repository.</dd>\n",
    "</dl>\n",
    "This is the complete workbook which includes both parts of the questions asked from the assignment."
   ]
  },
  {
   "cell_type": "markdown",
   "metadata": {},
   "source": [
    "**The following cells will build the code to scrape the given Wikipedia page:** https://en.wikipedia.org/wiki/List_of_postal_codes_of_Canada:_M"
   ]
  },
  {
   "cell_type": "code",
   "execution_count": 1,
   "metadata": {},
   "outputs": [
    {
     "name": "stdout",
     "output_type": "stream",
     "text": [
      "Requirement already satisfied: beautifulsoup4 in c:\\users\\hertzy\\anaconda3\\lib\\site-packages (4.8.0)\n",
      "Requirement already satisfied: soupsieve>=1.2 in c:\\users\\hertzy\\anaconda3\\lib\\site-packages (from beautifulsoup4) (1.9.3)\n",
      "Requirement already satisfied: lxml in c:\\users\\hertzy\\anaconda3\\lib\\site-packages (4.4.1)\n",
      "Collecting package metadata (current_repodata.json): ...working... done\n",
      "Solving environment: ...working... done\n",
      "\n",
      "# All requested packages already installed.\n",
      "\n"
     ]
    }
   ],
   "source": [
    "!pip install beautifulsoup4\n",
    "!pip install lxml\n",
    "import requests # library to handle requests\n",
    "import pandas as pd # library for data analsysis\n",
    "import numpy as np # library to handle data in a vectorized manner\n",
    "import random # library for random number generation\n",
    "\n",
    "#!conda install -c conda-forge geopy --yes \n",
    "from geopy.geocoders import Nominatim # module to convert an address into latitude and longitude values\n",
    "\n",
    "# libraries for displaying images\n",
    "from IPython.display import Image \n",
    "from IPython.core.display import HTML \n",
    "\n",
    "\n",
    "from IPython.display import display_html\n",
    "import pandas as pd\n",
    "import numpy as np\n",
    "    \n",
    "# tranforming json file into a pandas dataframe library\n",
    "from pandas.io.json import json_normalize\n",
    "\n",
    "!conda install -c conda-forge folium=0.5.0 --yes\n",
    "import folium # plotting library\n",
    "from bs4 import BeautifulSoup\n",
    "from sklearn.cluster import KMeans\n",
    "import matplotlib.cm as cm\n",
    "import matplotlib.colors as colors"
   ]
  },
  {
   "cell_type": "code",
   "execution_count": 2,
   "metadata": {},
   "outputs": [],
   "source": [
    "website_url = requests.get('https://en.wikipedia.org/wiki/List_of_postal_codes_of_Canada:_M').text"
   ]
  },
  {
   "cell_type": "code",
   "execution_count": 3,
   "metadata": {},
   "outputs": [],
   "source": [
    "from bs4 import BeautifulSoup\n",
    "soup = BeautifulSoup(website_url,'lxml')"
   ]
  },
  {
   "cell_type": "code",
   "execution_count": 4,
   "metadata": {},
   "outputs": [],
   "source": [
    "My_table = soup.find('table',{'class':'wikitable sortable'})"
   ]
  },
  {
   "cell_type": "markdown",
   "metadata": {},
   "source": [
    "**The cells below will create a dataframe following the example provided in the assignment**"
   ]
  },
  {
   "cell_type": "code",
   "execution_count": 5,
   "metadata": {},
   "outputs": [],
   "source": [
    "#Extracting the rows from the wikipedia table\n",
    "all_rows = []\n",
    "for row in My_table.findAll('td'):\n",
    "    all_rows.append(row.text)"
   ]
  },
  {
   "cell_type": "code",
   "execution_count": 6,
   "metadata": {},
   "outputs": [],
   "source": [
    "#A list is created out of each element in their given order so each one representing a postal code, a borough, or a neighborhood can be added accordingly\n",
    "elt = ''\n",
    "row = []\n",
    "PC = []\n",
    "Bo = []\n",
    "Ne = []\n",
    "\n",
    "for line in all_rows:\n",
    "    #elt.append(line.get_text)\n",
    "    #elt = line.rstrip('\\n')   #strip \\n the end of each line \n",
    "    row.append(line.rstrip('\\n'))\n",
    "\n",
    "PC.append(row[::3])\n",
    "Bo.append(row[1::3])\n",
    "Ne.append(row[2::3])\n"
   ]
  },
  {
   "cell_type": "code",
   "execution_count": 7,
   "metadata": {},
   "outputs": [
    {
     "data": {
      "text/plain": [
       "['M1A', 'M2A', 'M3A', 'M4A', 'M5A', 'M6A', 'M7A', 'M8A', 'M9A', 'M1B']"
      ]
     },
     "execution_count": 7,
     "metadata": {},
     "output_type": "execute_result"
    }
   ],
   "source": [
    "#Checking that the list of lists PC contains only the postal codes extracted\n",
    "PC[0][0:10]"
   ]
  },
  {
   "cell_type": "code",
   "execution_count": 8,
   "metadata": {},
   "outputs": [],
   "source": [
    "#merging the list into a single table that contains all the three columns created earlier\n",
    "PC1=PC.pop(0)\n",
    "Bo1=Bo.pop(0)\n",
    "Ne1=Ne.pop(0)\n",
    "\n",
    "col1 = pd.Series(PC1, name='PostalCode')\n",
    "col2 = pd.Series(Bo1, name='Borough')\n",
    "col3 = pd.Series(Ne1, name='Neighborhood')\n",
    "\n",
    "table = pd.concat([col1, col2, col3], axis=1)"
   ]
  },
  {
   "cell_type": "code",
   "execution_count": 9,
   "metadata": {
    "scrolled": false
   },
   "outputs": [
    {
     "data": {
      "text/html": [
       "<div>\n",
       "<style scoped>\n",
       "    .dataframe tbody tr th:only-of-type {\n",
       "        vertical-align: middle;\n",
       "    }\n",
       "\n",
       "    .dataframe tbody tr th {\n",
       "        vertical-align: top;\n",
       "    }\n",
       "\n",
       "    .dataframe thead th {\n",
       "        text-align: right;\n",
       "    }\n",
       "</style>\n",
       "<table border=\"1\" class=\"dataframe\">\n",
       "  <thead>\n",
       "    <tr style=\"text-align: right;\">\n",
       "      <th></th>\n",
       "      <th>PostalCode</th>\n",
       "      <th>Borough</th>\n",
       "      <th>Neighborhood</th>\n",
       "    </tr>\n",
       "  </thead>\n",
       "  <tbody>\n",
       "    <tr>\n",
       "      <td>0</td>\n",
       "      <td>M1A</td>\n",
       "      <td>Not assigned</td>\n",
       "      <td>Not assigned</td>\n",
       "    </tr>\n",
       "    <tr>\n",
       "      <td>1</td>\n",
       "      <td>M2A</td>\n",
       "      <td>Not assigned</td>\n",
       "      <td>Not assigned</td>\n",
       "    </tr>\n",
       "    <tr>\n",
       "      <td>2</td>\n",
       "      <td>M3A</td>\n",
       "      <td>North York</td>\n",
       "      <td>Parkwoods</td>\n",
       "    </tr>\n",
       "    <tr>\n",
       "      <td>3</td>\n",
       "      <td>M4A</td>\n",
       "      <td>North York</td>\n",
       "      <td>Victoria Village</td>\n",
       "    </tr>\n",
       "    <tr>\n",
       "      <td>4</td>\n",
       "      <td>M5A</td>\n",
       "      <td>Downtown Toronto</td>\n",
       "      <td>Regent Park, Harbourfront</td>\n",
       "    </tr>\n",
       "    <tr>\n",
       "      <td>5</td>\n",
       "      <td>M6A</td>\n",
       "      <td>North York</td>\n",
       "      <td>Lawrence Manor, Lawrence Heights</td>\n",
       "    </tr>\n",
       "    <tr>\n",
       "      <td>6</td>\n",
       "      <td>M7A</td>\n",
       "      <td>Downtown Toronto</td>\n",
       "      <td>Queen's Park, Ontario Provincial Government</td>\n",
       "    </tr>\n",
       "    <tr>\n",
       "      <td>7</td>\n",
       "      <td>M8A</td>\n",
       "      <td>Not assigned</td>\n",
       "      <td>Not assigned</td>\n",
       "    </tr>\n",
       "    <tr>\n",
       "      <td>8</td>\n",
       "      <td>M9A</td>\n",
       "      <td>Etobicoke</td>\n",
       "      <td>Islington Avenue, Humber Valley Village</td>\n",
       "    </tr>\n",
       "    <tr>\n",
       "      <td>9</td>\n",
       "      <td>M1B</td>\n",
       "      <td>Scarborough</td>\n",
       "      <td>Malvern, Rouge</td>\n",
       "    </tr>\n",
       "  </tbody>\n",
       "</table>\n",
       "</div>"
      ],
      "text/plain": [
       "  PostalCode           Borough                                 Neighborhood\n",
       "0        M1A      Not assigned                                 Not assigned\n",
       "1        M2A      Not assigned                                 Not assigned\n",
       "2        M3A        North York                                    Parkwoods\n",
       "3        M4A        North York                             Victoria Village\n",
       "4        M5A  Downtown Toronto                    Regent Park, Harbourfront\n",
       "5        M6A        North York             Lawrence Manor, Lawrence Heights\n",
       "6        M7A  Downtown Toronto  Queen's Park, Ontario Provincial Government\n",
       "7        M8A      Not assigned                                 Not assigned\n",
       "8        M9A         Etobicoke      Islington Avenue, Humber Valley Village\n",
       "9        M1B       Scarborough                               Malvern, Rouge"
      ]
     },
     "execution_count": 9,
     "metadata": {},
     "output_type": "execute_result"
    }
   ],
   "source": [
    "#checking the first few rows of the table to observe the occurences of 'Not assigned' values\n",
    "table.head(10)"
   ]
  },
  {
   "cell_type": "code",
   "execution_count": 10,
   "metadata": {},
   "outputs": [
    {
     "data": {
      "text/plain": [
       "(77,)"
      ]
     },
     "execution_count": 10,
     "metadata": {},
     "output_type": "execute_result"
    }
   ],
   "source": [
    "#Filter on the 'Not assigned values'\n",
    "Neigh_filtr = table[table['Neighborhood'] == 'Not assigned'].index\n",
    "Neigh_filtr.shape"
   ]
  },
  {
   "cell_type": "code",
   "execution_count": 11,
   "metadata": {},
   "outputs": [
    {
     "data": {
      "text/plain": [
       "(77,)"
      ]
     },
     "execution_count": 11,
     "metadata": {},
     "output_type": "execute_result"
    }
   ],
   "source": [
    "Borough_filtr = table[table['Borough'] == 'Not assigned'].index\n",
    "Borough_filtr.shape"
   ]
  },
  {
   "cell_type": "code",
   "execution_count": 12,
   "metadata": {},
   "outputs": [],
   "source": [
    "#Apparently, the same postal code that have not been assigned a borough has not been assigned a neighborhood either"
   ]
  },
  {
   "cell_type": "code",
   "execution_count": 13,
   "metadata": {},
   "outputs": [
    {
     "data": {
      "text/html": [
       "<div>\n",
       "<style scoped>\n",
       "    .dataframe tbody tr th:only-of-type {\n",
       "        vertical-align: middle;\n",
       "    }\n",
       "\n",
       "    .dataframe tbody tr th {\n",
       "        vertical-align: top;\n",
       "    }\n",
       "\n",
       "    .dataframe thead th {\n",
       "        text-align: right;\n",
       "    }\n",
       "</style>\n",
       "<table border=\"1\" class=\"dataframe\">\n",
       "  <thead>\n",
       "    <tr style=\"text-align: right;\">\n",
       "      <th></th>\n",
       "      <th>PostalCode</th>\n",
       "      <th>Borough</th>\n",
       "      <th>Neighborhood</th>\n",
       "    </tr>\n",
       "  </thead>\n",
       "  <tbody>\n",
       "    <tr>\n",
       "      <td>0</td>\n",
       "      <td>M3A</td>\n",
       "      <td>North York</td>\n",
       "      <td>Parkwoods</td>\n",
       "    </tr>\n",
       "    <tr>\n",
       "      <td>1</td>\n",
       "      <td>M4A</td>\n",
       "      <td>North York</td>\n",
       "      <td>Victoria Village</td>\n",
       "    </tr>\n",
       "    <tr>\n",
       "      <td>2</td>\n",
       "      <td>M5A</td>\n",
       "      <td>Downtown Toronto</td>\n",
       "      <td>Regent Park, Harbourfront</td>\n",
       "    </tr>\n",
       "    <tr>\n",
       "      <td>3</td>\n",
       "      <td>M6A</td>\n",
       "      <td>North York</td>\n",
       "      <td>Lawrence Manor, Lawrence Heights</td>\n",
       "    </tr>\n",
       "    <tr>\n",
       "      <td>4</td>\n",
       "      <td>M7A</td>\n",
       "      <td>Downtown Toronto</td>\n",
       "      <td>Queen's Park, Ontario Provincial Government</td>\n",
       "    </tr>\n",
       "  </tbody>\n",
       "</table>\n",
       "</div>"
      ],
      "text/plain": [
       "  PostalCode           Borough                                 Neighborhood\n",
       "0        M3A        North York                                    Parkwoods\n",
       "1        M4A        North York                             Victoria Village\n",
       "2        M5A  Downtown Toronto                    Regent Park, Harbourfront\n",
       "3        M6A        North York             Lawrence Manor, Lawrence Heights\n",
       "4        M7A  Downtown Toronto  Queen's Park, Ontario Provincial Government"
      ]
     },
     "execution_count": 13,
     "metadata": {},
     "output_type": "execute_result"
    }
   ],
   "source": [
    "index_filt = table[table['Borough']=='Not assigned'].index\n",
    "table.drop(index_filt, inplace=True)\n",
    "table.reset_index(drop=True, inplace=True)\n",
    "table.head()"
   ]
  },
  {
   "cell_type": "code",
   "execution_count": 14,
   "metadata": {},
   "outputs": [
    {
     "data": {
      "text/plain": [
       "(0,)"
      ]
     },
     "execution_count": 14,
     "metadata": {},
     "output_type": "execute_result"
    }
   ],
   "source": [
    "#Confirming that every postal code listed was assigned a neighborhood in the dataframe\n",
    "Neigh_filtr = table[table['Neighborhood'] == 'Not assigned'].index\n",
    "Neigh_filtr.shape"
   ]
  },
  {
   "cell_type": "code",
   "execution_count": 15,
   "metadata": {},
   "outputs": [
    {
     "data": {
      "text/plain": [
       "(0,)"
      ]
     },
     "execution_count": 15,
     "metadata": {},
     "output_type": "execute_result"
    }
   ],
   "source": [
    "#Confirming that every postal code listed was assigned a borough in the dataframe\n",
    "Borough_filtr = table[table['Borough'] == 'Not assigned'].index\n",
    "Borough_filtr.shape"
   ]
  },
  {
   "cell_type": "markdown",
   "metadata": {},
   "source": [
    "**The cells below will add the geospatial coordinates to the dataframe per associated Postal Code**"
   ]
  },
  {
   "cell_type": "code",
   "execution_count": 16,
   "metadata": {},
   "outputs": [],
   "source": [
    "#Scraping the geospatial data from the web\n",
    "import requests # import \n",
    "\n",
    "req = requests. get('http://cocl.us/Geospatial_data')\n",
    "url_content = req.content\n",
    "csv_file = open('downloaded.csv', 'wb')\n",
    "csv_file.write(url_content)\n",
    "csv_file.close()"
   ]
  },
  {
   "cell_type": "code",
   "execution_count": 17,
   "metadata": {},
   "outputs": [
    {
     "data": {
      "text/html": [
       "<div>\n",
       "<style scoped>\n",
       "    .dataframe tbody tr th:only-of-type {\n",
       "        vertical-align: middle;\n",
       "    }\n",
       "\n",
       "    .dataframe tbody tr th {\n",
       "        vertical-align: top;\n",
       "    }\n",
       "\n",
       "    .dataframe thead th {\n",
       "        text-align: right;\n",
       "    }\n",
       "</style>\n",
       "<table border=\"1\" class=\"dataframe\">\n",
       "  <thead>\n",
       "    <tr style=\"text-align: right;\">\n",
       "      <th></th>\n",
       "      <th>Postal Code</th>\n",
       "      <th>Latitude</th>\n",
       "      <th>Longitude</th>\n",
       "    </tr>\n",
       "  </thead>\n",
       "  <tbody>\n",
       "    <tr>\n",
       "      <td>0</td>\n",
       "      <td>M1B</td>\n",
       "      <td>43.806686</td>\n",
       "      <td>-79.194353</td>\n",
       "    </tr>\n",
       "    <tr>\n",
       "      <td>1</td>\n",
       "      <td>M1C</td>\n",
       "      <td>43.784535</td>\n",
       "      <td>-79.160497</td>\n",
       "    </tr>\n",
       "    <tr>\n",
       "      <td>2</td>\n",
       "      <td>M1E</td>\n",
       "      <td>43.763573</td>\n",
       "      <td>-79.188711</td>\n",
       "    </tr>\n",
       "    <tr>\n",
       "      <td>3</td>\n",
       "      <td>M1G</td>\n",
       "      <td>43.770992</td>\n",
       "      <td>-79.216917</td>\n",
       "    </tr>\n",
       "    <tr>\n",
       "      <td>4</td>\n",
       "      <td>M1H</td>\n",
       "      <td>43.773136</td>\n",
       "      <td>-79.239476</td>\n",
       "    </tr>\n",
       "  </tbody>\n",
       "</table>\n",
       "</div>"
      ],
      "text/plain": [
       "  Postal Code   Latitude  Longitude\n",
       "0         M1B  43.806686 -79.194353\n",
       "1         M1C  43.784535 -79.160497\n",
       "2         M1E  43.763573 -79.188711\n",
       "3         M1G  43.770992 -79.216917\n",
       "4         M1H  43.773136 -79.239476"
      ]
     },
     "execution_count": 17,
     "metadata": {},
     "output_type": "execute_result"
    }
   ],
   "source": [
    "#Reading the coordinates into a Pandas dataframe\n",
    "coord = pd.read_csv('downloaded.csv')\n",
    "coord.head()"
   ]
  },
  {
   "cell_type": "code",
   "execution_count": 18,
   "metadata": {},
   "outputs": [
    {
     "data": {
      "text/plain": [
       "(103, 3)"
      ]
     },
     "execution_count": 18,
     "metadata": {},
     "output_type": "execute_result"
    }
   ],
   "source": [
    "coord.shape"
   ]
  },
  {
   "cell_type": "code",
   "execution_count": 19,
   "metadata": {},
   "outputs": [
    {
     "data": {
      "text/html": [
       "<div>\n",
       "<style scoped>\n",
       "    .dataframe tbody tr th:only-of-type {\n",
       "        vertical-align: middle;\n",
       "    }\n",
       "\n",
       "    .dataframe tbody tr th {\n",
       "        vertical-align: top;\n",
       "    }\n",
       "\n",
       "    .dataframe thead th {\n",
       "        text-align: right;\n",
       "    }\n",
       "</style>\n",
       "<table border=\"1\" class=\"dataframe\">\n",
       "  <thead>\n",
       "    <tr style=\"text-align: right;\">\n",
       "      <th></th>\n",
       "      <th>PostalCode</th>\n",
       "      <th>Borough</th>\n",
       "      <th>Neighborhood</th>\n",
       "      <th>Postal Code</th>\n",
       "      <th>Latitude</th>\n",
       "      <th>Longitude</th>\n",
       "    </tr>\n",
       "  </thead>\n",
       "  <tbody>\n",
       "    <tr>\n",
       "      <td>0</td>\n",
       "      <td>M3A</td>\n",
       "      <td>North York</td>\n",
       "      <td>Parkwoods</td>\n",
       "      <td>M3A</td>\n",
       "      <td>43.753259</td>\n",
       "      <td>-79.329656</td>\n",
       "    </tr>\n",
       "    <tr>\n",
       "      <td>1</td>\n",
       "      <td>M4A</td>\n",
       "      <td>North York</td>\n",
       "      <td>Victoria Village</td>\n",
       "      <td>M4A</td>\n",
       "      <td>43.725882</td>\n",
       "      <td>-79.315572</td>\n",
       "    </tr>\n",
       "    <tr>\n",
       "      <td>2</td>\n",
       "      <td>M5A</td>\n",
       "      <td>Downtown Toronto</td>\n",
       "      <td>Regent Park, Harbourfront</td>\n",
       "      <td>M5A</td>\n",
       "      <td>43.654260</td>\n",
       "      <td>-79.360636</td>\n",
       "    </tr>\n",
       "    <tr>\n",
       "      <td>3</td>\n",
       "      <td>M6A</td>\n",
       "      <td>North York</td>\n",
       "      <td>Lawrence Manor, Lawrence Heights</td>\n",
       "      <td>M6A</td>\n",
       "      <td>43.718518</td>\n",
       "      <td>-79.464763</td>\n",
       "    </tr>\n",
       "    <tr>\n",
       "      <td>4</td>\n",
       "      <td>M7A</td>\n",
       "      <td>Downtown Toronto</td>\n",
       "      <td>Queen's Park, Ontario Provincial Government</td>\n",
       "      <td>M7A</td>\n",
       "      <td>43.662301</td>\n",
       "      <td>-79.389494</td>\n",
       "    </tr>\n",
       "  </tbody>\n",
       "</table>\n",
       "</div>"
      ],
      "text/plain": [
       "  PostalCode           Borough                                 Neighborhood  \\\n",
       "0        M3A        North York                                    Parkwoods   \n",
       "1        M4A        North York                             Victoria Village   \n",
       "2        M5A  Downtown Toronto                    Regent Park, Harbourfront   \n",
       "3        M6A        North York             Lawrence Manor, Lawrence Heights   \n",
       "4        M7A  Downtown Toronto  Queen's Park, Ontario Provincial Government   \n",
       "\n",
       "  Postal Code   Latitude  Longitude  \n",
       "0         M3A  43.753259 -79.329656  \n",
       "1         M4A  43.725882 -79.315572  \n",
       "2         M5A  43.654260 -79.360636  \n",
       "3         M6A  43.718518 -79.464763  \n",
       "4         M7A  43.662301 -79.389494  "
      ]
     },
     "execution_count": 19,
     "metadata": {},
     "output_type": "execute_result"
    }
   ],
   "source": [
    "#Merging the two tables created in order to the coordinates associated with each postal code in Toronto\n",
    "final_table = pd.merge(table, coord, right_on='Postal Code', left_on='PostalCode')\n",
    "final_table.head()"
   ]
  },
  {
   "cell_type": "code",
   "execution_count": 20,
   "metadata": {},
   "outputs": [
    {
     "data": {
      "text/html": [
       "<div>\n",
       "<style scoped>\n",
       "    .dataframe tbody tr th:only-of-type {\n",
       "        vertical-align: middle;\n",
       "    }\n",
       "\n",
       "    .dataframe tbody tr th {\n",
       "        vertical-align: top;\n",
       "    }\n",
       "\n",
       "    .dataframe thead th {\n",
       "        text-align: right;\n",
       "    }\n",
       "</style>\n",
       "<table border=\"1\" class=\"dataframe\">\n",
       "  <thead>\n",
       "    <tr style=\"text-align: right;\">\n",
       "      <th></th>\n",
       "      <th>PostalCode</th>\n",
       "      <th>Borough</th>\n",
       "      <th>Neighborhood</th>\n",
       "      <th>Latitude</th>\n",
       "      <th>Longitude</th>\n",
       "    </tr>\n",
       "  </thead>\n",
       "  <tbody>\n",
       "    <tr>\n",
       "      <td>0</td>\n",
       "      <td>M3A</td>\n",
       "      <td>North York</td>\n",
       "      <td>Parkwoods</td>\n",
       "      <td>43.753259</td>\n",
       "      <td>-79.329656</td>\n",
       "    </tr>\n",
       "    <tr>\n",
       "      <td>1</td>\n",
       "      <td>M4A</td>\n",
       "      <td>North York</td>\n",
       "      <td>Victoria Village</td>\n",
       "      <td>43.725882</td>\n",
       "      <td>-79.315572</td>\n",
       "    </tr>\n",
       "    <tr>\n",
       "      <td>2</td>\n",
       "      <td>M5A</td>\n",
       "      <td>Downtown Toronto</td>\n",
       "      <td>Regent Park, Harbourfront</td>\n",
       "      <td>43.654260</td>\n",
       "      <td>-79.360636</td>\n",
       "    </tr>\n",
       "    <tr>\n",
       "      <td>3</td>\n",
       "      <td>M6A</td>\n",
       "      <td>North York</td>\n",
       "      <td>Lawrence Manor, Lawrence Heights</td>\n",
       "      <td>43.718518</td>\n",
       "      <td>-79.464763</td>\n",
       "    </tr>\n",
       "    <tr>\n",
       "      <td>4</td>\n",
       "      <td>M7A</td>\n",
       "      <td>Downtown Toronto</td>\n",
       "      <td>Queen's Park, Ontario Provincial Government</td>\n",
       "      <td>43.662301</td>\n",
       "      <td>-79.389494</td>\n",
       "    </tr>\n",
       "  </tbody>\n",
       "</table>\n",
       "</div>"
      ],
      "text/plain": [
       "  PostalCode           Borough                                 Neighborhood  \\\n",
       "0        M3A        North York                                    Parkwoods   \n",
       "1        M4A        North York                             Victoria Village   \n",
       "2        M5A  Downtown Toronto                    Regent Park, Harbourfront   \n",
       "3        M6A        North York             Lawrence Manor, Lawrence Heights   \n",
       "4        M7A  Downtown Toronto  Queen's Park, Ontario Provincial Government   \n",
       "\n",
       "    Latitude  Longitude  \n",
       "0  43.753259 -79.329656  \n",
       "1  43.725882 -79.315572  \n",
       "2  43.654260 -79.360636  \n",
       "3  43.718518 -79.464763  \n",
       "4  43.662301 -79.389494  "
      ]
     },
     "execution_count": 20,
     "metadata": {},
     "output_type": "execute_result"
    }
   ],
   "source": [
    "#Since there are two columns with the same the postal code information, we drop one of them\n",
    "final_table.pop('Postal Code')\n",
    "final_table.head()"
   ]
  },
  {
   "cell_type": "code",
   "execution_count": 21,
   "metadata": {},
   "outputs": [
    {
     "data": {
      "text/plain": [
       "(103, 5)"
      ]
     },
     "execution_count": 21,
     "metadata": {},
     "output_type": "execute_result"
    }
   ],
   "source": [
    "final_table.shape"
   ]
  },
  {
   "cell_type": "markdown",
   "metadata": {},
   "source": [
    "**Let's create a superimposed map of the neighborhoods of Toronto with the data we have**"
   ]
  },
  {
   "cell_type": "code",
   "execution_count": 22,
   "metadata": {},
   "outputs": [
    {
     "name": "stdout",
     "output_type": "stream",
     "text": [
      "Collecting package metadata (current_repodata.json): ...working... done\n",
      "Solving environment: ...working... done\n",
      "\n",
      "# All requested packages already installed.\n",
      "\n"
     ]
    }
   ],
   "source": [
    "# Required dependecies for a map\n",
    "!conda install -c conda-forge folium=0.5.0 --yes \n",
    "import folium # map rendering library"
   ]
  },
  {
   "cell_type": "code",
   "execution_count": 23,
   "metadata": {},
   "outputs": [],
   "source": [
    "final_table['BoroughDum']=final_table['Borough']\n",
    "kclusters=len(final_table['BoroughDum'].unique())"
   ]
  },
  {
   "cell_type": "code",
   "execution_count": 24,
   "metadata": {},
   "outputs": [],
   "source": [
    "final_table['BoroughDum'].replace(to_replace=['North York', 'Downtown Toronto', 'Etobicoke', 'Scarborough',\n",
    "       'East York', 'York', 'East Toronto', 'West Toronto',\n",
    "       'Central Toronto', 'Mississauga'], value=[0,1,2,3,4,5,6,7,8,9],inplace=True)"
   ]
  },
  {
   "cell_type": "code",
   "execution_count": 25,
   "metadata": {},
   "outputs": [
    {
     "name": "stdout",
     "output_type": "stream",
     "text": [
      "The geospatial coordinates of Toronto are 43.6534817, -79.3839347.\n"
     ]
    }
   ],
   "source": [
    "address = 'Toronto, CA'\n",
    "\n",
    "geolocator = Nominatim(user_agent=\"to_explorer\")\n",
    "location = geolocator.geocode(address)\n",
    "latitude = location.latitude\n",
    "longitude = location.longitude\n",
    "print('The geospatial coordinates of Toronto are {}, {}.'.format(latitude, longitude))"
   ]
  },
  {
   "cell_type": "code",
   "execution_count": 26,
   "metadata": {},
   "outputs": [
    {
     "data": {
      "text/html": [
       "<div style=\"width:100%;\"><div style=\"position:relative;width:100%;height:0;padding-bottom:60%;\"><span style=\"color:#565656\">Make this Notebook Trusted to load map: File -> Trust Notebook</span><iframe src=\"about:blank\" style=\"position:absolute;width:100%;height:100%;left:0;top:0;border:none !important;\" data-html=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 onload=\"this.contentDocument.open();this.contentDocument.write(atob(this.getAttribute('data-html')));this.contentDocument.close();\" allowfullscreen webkitallowfullscreen mozallowfullscreen></iframe></div></div>"
      ],
      "text/plain": [
       "<folium.folium.Map at 0x2a4894d8a88>"
      ]
     },
     "execution_count": 26,
     "metadata": {},
     "output_type": "execute_result"
    }
   ],
   "source": [
    "# create map\n",
    "map_clusters = folium.Map(location=[latitude, longitude], zoom_start=10.5)\n",
    "\n",
    "# set color scheme for the clusters\n",
    "x = np.arange(kclusters)\n",
    "ys = [i + x + (i*x)**2 for i in range(kclusters)]\n",
    "colors_array = cm.rainbow(np.linspace(0, 1, len(ys)))\n",
    "rainbow = [colors.rgb2hex(i) for i in colors_array]\n",
    "\n",
    "# add markers to the map\n",
    "markers_colors = []\n",
    "for lat, lon, poi, cluster in zip(final_table['Latitude'], final_table['Longitude'], final_table['Borough'], final_table['BoroughDum']):\n",
    "    label = folium.Popup(str(poi) + ' Neighborhood ' + str(cluster), parse_html=True)\n",
    "    folium.CircleMarker(\n",
    "        [lat, lon],\n",
    "        radius=5,\n",
    "        popup=label,\n",
    "        color=rainbow[cluster-1],\n",
    "        fill=True,\n",
    "        fill_color=rainbow[cluster-1],\n",
    "        fill_opacity=0.7).add_to(map_clusters)\n",
    "       \n",
    "map_clusters"
   ]
  },
  {
   "cell_type": "code",
   "execution_count": null,
   "metadata": {},
   "outputs": [],
   "source": []
  }
 ],
 "metadata": {
  "kernelspec": {
   "display_name": "Python 3",
   "language": "python",
   "name": "python3"
  },
  "language_info": {
   "codemirror_mode": {
    "name": "ipython",
    "version": 3
   },
   "file_extension": ".py",
   "mimetype": "text/x-python",
   "name": "python",
   "nbconvert_exporter": "python",
   "pygments_lexer": "ipython3",
   "version": "3.7.4"
  }
 },
 "nbformat": 4,
 "nbformat_minor": 1
}
