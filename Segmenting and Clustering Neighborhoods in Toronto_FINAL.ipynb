{
 "cells": [
  {
   "cell_type": "markdown",
   "metadata": {
    "collapsed": true
   },
   "source": [
    "# <h3>Assignment # 2: </h3><h1>Segmenting and Clustering Neighborhoods in Toronto</h1>\n",
    "<h5>by</h5><h3>Frantzdy Hervé</h3> \n",
    "<dl> </dl>\n",
    "  <dl>\n",
    "  <dt>Summary:</dt>\n",
    "  <dd>1. First, we start by creating a new Notebook for this assignment;</dd>\n",
    "  <dd>2. Second, we use the Notebook to build the code to scrape a given Wikipedia page;</dd>\n",
    "  <dd>3. Third, create the relevant Dataframe;</dd>\n",
    "  <dd>4. Finally, we submit a link to our Notebook on our Github repository.</dd>\n",
    "</dl>\n",
    "This is the complete workbook which includes both parts of the questions asked from the assignment."
   ]
  },
  {
   "cell_type": "markdown",
   "metadata": {},
   "source": [
    "**The following cells will build the code to scrape the given Wikipedia page:** https://en.wikipedia.org/wiki/List_of_postal_codes_of_Canada:_M"
   ]
  },
  {
   "cell_type": "code",
   "execution_count": 1,
   "metadata": {},
   "outputs": [
    {
     "name": "stdout",
     "output_type": "stream",
     "text": [
      "Requirement already satisfied: beautifulsoup4 in c:\\users\\hertzy\\anaconda3\\lib\\site-packages (4.8.0)\n",
      "Requirement already satisfied: soupsieve>=1.2 in c:\\users\\hertzy\\anaconda3\\lib\\site-packages (from beautifulsoup4) (1.9.3)\n",
      "Requirement already satisfied: lxml in c:\\users\\hertzy\\anaconda3\\lib\\site-packages (4.4.1)\n",
      "Collecting package metadata (current_repodata.json): ...working... done\n",
      "Solving environment: ...working... done\n",
      "\n",
      "# All requested packages already installed.\n",
      "\n"
     ]
    }
   ],
   "source": [
    "!pip install beautifulsoup4\n",
    "!pip install lxml\n",
    "import requests # library to handle requests\n",
    "import pandas as pd # library for data analsysis\n",
    "import numpy as np # library to handle data in a vectorized manner\n",
    "import random # library for random number generation\n",
    "\n",
    "#!conda install -c conda-forge geopy --yes \n",
    "from geopy.geocoders import Nominatim # module to convert an address into latitude and longitude values\n",
    "\n",
    "# libraries for displaying images\n",
    "from IPython.display import Image \n",
    "from IPython.core.display import HTML \n",
    "\n",
    "\n",
    "from IPython.display import display_html\n",
    "import pandas as pd\n",
    "import numpy as np\n",
    "    \n",
    "# tranforming json file into a pandas dataframe library\n",
    "from pandas.io.json import json_normalize\n",
    "\n",
    "!conda install -c conda-forge folium=0.5.0 --yes\n",
    "import folium # plotting library\n",
    "from bs4 import BeautifulSoup\n",
    "from sklearn.cluster import KMeans\n",
    "import matplotlib.cm as cm\n",
    "import matplotlib.colors as colors"
   ]
  },
  {
   "cell_type": "code",
   "execution_count": 2,
   "metadata": {},
   "outputs": [],
   "source": [
    "website_url = requests.get('https://en.wikipedia.org/wiki/List_of_postal_codes_of_Canada:_M').text"
   ]
  },
  {
   "cell_type": "code",
   "execution_count": 3,
   "metadata": {},
   "outputs": [],
   "source": [
    "from bs4 import BeautifulSoup\n",
    "soup = BeautifulSoup(website_url,'lxml')"
   ]
  },
  {
   "cell_type": "code",
   "execution_count": 4,
   "metadata": {},
   "outputs": [],
   "source": [
    "My_table = soup.find('table',{'class':'wikitable sortable'})"
   ]
  },
  {
   "cell_type": "markdown",
   "metadata": {},
   "source": [
    "**The cells below will create a dataframe following the example provided in the assignment**"
   ]
  },
  {
   "cell_type": "code",
   "execution_count": 5,
   "metadata": {},
   "outputs": [],
   "source": [
    "#Extracting the rows from the wikipedia table\n",
    "all_rows = []\n",
    "for row in My_table.findAll('td'):\n",
    "    all_rows.append(row.text)"
   ]
  },
  {
   "cell_type": "code",
   "execution_count": 6,
   "metadata": {},
   "outputs": [],
   "source": [
    "#A list is created out of each element in their given order so each one representing a postal code, a borough, or a neighborhood can be added accordingly\n",
    "elt = ''\n",
    "row = []\n",
    "PC = []\n",
    "Bo = []\n",
    "Ne = []\n",
    "\n",
    "for line in all_rows:\n",
    "    #elt.append(line.get_text)\n",
    "    #elt = line.rstrip('\\n')   #strip \\n the end of each line \n",
    "    row.append(line.rstrip('\\n'))\n",
    "\n",
    "PC.append(row[::3])\n",
    "Bo.append(row[1::3])\n",
    "Ne.append(row[2::3])\n"
   ]
  },
  {
   "cell_type": "code",
   "execution_count": 7,
   "metadata": {},
   "outputs": [
    {
     "data": {
      "text/plain": [
       "['M1A', 'M2A', 'M3A', 'M4A', 'M5A', 'M6A', 'M7A', 'M8A', 'M9A', 'M1B']"
      ]
     },
     "execution_count": 7,
     "metadata": {},
     "output_type": "execute_result"
    }
   ],
   "source": [
    "#Checking that the list of lists PC contains only the postal codes extracted\n",
    "PC[0][0:10]"
   ]
  },
  {
   "cell_type": "code",
   "execution_count": 8,
   "metadata": {},
   "outputs": [],
   "source": [
    "#merging the list into a single table that contains all the three columns created earlier\n",
    "PC1=PC.pop(0)\n",
    "Bo1=Bo.pop(0)\n",
    "Ne1=Ne.pop(0)\n",
    "\n",
    "col1 = pd.Series(PC1, name='PostalCode')\n",
    "col2 = pd.Series(Bo1, name='Borough')\n",
    "col3 = pd.Series(Ne1, name='Neighborhood')\n",
    "\n",
    "table = pd.concat([col1, col2, col3], axis=1)"
   ]
  },
  {
   "cell_type": "code",
   "execution_count": 9,
   "metadata": {
    "scrolled": false
   },
   "outputs": [
    {
     "data": {
      "text/html": [
       "<div>\n",
       "<style scoped>\n",
       "    .dataframe tbody tr th:only-of-type {\n",
       "        vertical-align: middle;\n",
       "    }\n",
       "\n",
       "    .dataframe tbody tr th {\n",
       "        vertical-align: top;\n",
       "    }\n",
       "\n",
       "    .dataframe thead th {\n",
       "        text-align: right;\n",
       "    }\n",
       "</style>\n",
       "<table border=\"1\" class=\"dataframe\">\n",
       "  <thead>\n",
       "    <tr style=\"text-align: right;\">\n",
       "      <th></th>\n",
       "      <th>PostalCode</th>\n",
       "      <th>Borough</th>\n",
       "      <th>Neighborhood</th>\n",
       "    </tr>\n",
       "  </thead>\n",
       "  <tbody>\n",
       "    <tr>\n",
       "      <td>0</td>\n",
       "      <td>M1A</td>\n",
       "      <td>Not assigned</td>\n",
       "      <td>Not assigned</td>\n",
       "    </tr>\n",
       "    <tr>\n",
       "      <td>1</td>\n",
       "      <td>M2A</td>\n",
       "      <td>Not assigned</td>\n",
       "      <td>Not assigned</td>\n",
       "    </tr>\n",
       "    <tr>\n",
       "      <td>2</td>\n",
       "      <td>M3A</td>\n",
       "      <td>North York</td>\n",
       "      <td>Parkwoods</td>\n",
       "    </tr>\n",
       "    <tr>\n",
       "      <td>3</td>\n",
       "      <td>M4A</td>\n",
       "      <td>North York</td>\n",
       "      <td>Victoria Village</td>\n",
       "    </tr>\n",
       "    <tr>\n",
       "      <td>4</td>\n",
       "      <td>M5A</td>\n",
       "      <td>Downtown Toronto</td>\n",
       "      <td>Regent Park, Harbourfront</td>\n",
       "    </tr>\n",
       "    <tr>\n",
       "      <td>5</td>\n",
       "      <td>M6A</td>\n",
       "      <td>North York</td>\n",
       "      <td>Lawrence Manor, Lawrence Heights</td>\n",
       "    </tr>\n",
       "    <tr>\n",
       "      <td>6</td>\n",
       "      <td>M7A</td>\n",
       "      <td>Downtown Toronto</td>\n",
       "      <td>Queen's Park, Ontario Provincial Government</td>\n",
       "    </tr>\n",
       "    <tr>\n",
       "      <td>7</td>\n",
       "      <td>M8A</td>\n",
       "      <td>Not assigned</td>\n",
       "      <td>Not assigned</td>\n",
       "    </tr>\n",
       "    <tr>\n",
       "      <td>8</td>\n",
       "      <td>M9A</td>\n",
       "      <td>Etobicoke</td>\n",
       "      <td>Islington Avenue, Humber Valley Village</td>\n",
       "    </tr>\n",
       "    <tr>\n",
       "      <td>9</td>\n",
       "      <td>M1B</td>\n",
       "      <td>Scarborough</td>\n",
       "      <td>Malvern, Rouge</td>\n",
       "    </tr>\n",
       "  </tbody>\n",
       "</table>\n",
       "</div>"
      ],
      "text/plain": [
       "  PostalCode           Borough                                 Neighborhood\n",
       "0        M1A      Not assigned                                 Not assigned\n",
       "1        M2A      Not assigned                                 Not assigned\n",
       "2        M3A        North York                                    Parkwoods\n",
       "3        M4A        North York                             Victoria Village\n",
       "4        M5A  Downtown Toronto                    Regent Park, Harbourfront\n",
       "5        M6A        North York             Lawrence Manor, Lawrence Heights\n",
       "6        M7A  Downtown Toronto  Queen's Park, Ontario Provincial Government\n",
       "7        M8A      Not assigned                                 Not assigned\n",
       "8        M9A         Etobicoke      Islington Avenue, Humber Valley Village\n",
       "9        M1B       Scarborough                               Malvern, Rouge"
      ]
     },
     "execution_count": 9,
     "metadata": {},
     "output_type": "execute_result"
    }
   ],
   "source": [
    "#checking the first few rows of the table to observe the occurences of 'Not assigned' values\n",
    "table.head(10)"
   ]
  },
  {
   "cell_type": "code",
   "execution_count": 10,
   "metadata": {},
   "outputs": [
    {
     "data": {
      "text/plain": [
       "(77,)"
      ]
     },
     "execution_count": 10,
     "metadata": {},
     "output_type": "execute_result"
    }
   ],
   "source": [
    "#Filter on the 'Not assigned values'\n",
    "Neigh_filtr = table[table['Neighborhood'] == 'Not assigned'].index\n",
    "Neigh_filtr.shape"
   ]
  },
  {
   "cell_type": "code",
   "execution_count": 11,
   "metadata": {},
   "outputs": [
    {
     "data": {
      "text/plain": [
       "(77,)"
      ]
     },
     "execution_count": 11,
     "metadata": {},
     "output_type": "execute_result"
    }
   ],
   "source": [
    "Borough_filtr = table[table['Borough'] == 'Not assigned'].index\n",
    "Borough_filtr.shape"
   ]
  },
  {
   "cell_type": "code",
   "execution_count": 12,
   "metadata": {},
   "outputs": [],
   "source": [
    "#Apparently, the same postal code that have not been assigned a borough has not been assigned a neighborhood either"
   ]
  },
  {
   "cell_type": "code",
   "execution_count": 13,
   "metadata": {},
   "outputs": [
    {
     "data": {
      "text/html": [
       "<div>\n",
       "<style scoped>\n",
       "    .dataframe tbody tr th:only-of-type {\n",
       "        vertical-align: middle;\n",
       "    }\n",
       "\n",
       "    .dataframe tbody tr th {\n",
       "        vertical-align: top;\n",
       "    }\n",
       "\n",
       "    .dataframe thead th {\n",
       "        text-align: right;\n",
       "    }\n",
       "</style>\n",
       "<table border=\"1\" class=\"dataframe\">\n",
       "  <thead>\n",
       "    <tr style=\"text-align: right;\">\n",
       "      <th></th>\n",
       "      <th>PostalCode</th>\n",
       "      <th>Borough</th>\n",
       "      <th>Neighborhood</th>\n",
       "    </tr>\n",
       "  </thead>\n",
       "  <tbody>\n",
       "    <tr>\n",
       "      <td>0</td>\n",
       "      <td>M3A</td>\n",
       "      <td>North York</td>\n",
       "      <td>Parkwoods</td>\n",
       "    </tr>\n",
       "    <tr>\n",
       "      <td>1</td>\n",
       "      <td>M4A</td>\n",
       "      <td>North York</td>\n",
       "      <td>Victoria Village</td>\n",
       "    </tr>\n",
       "    <tr>\n",
       "      <td>2</td>\n",
       "      <td>M5A</td>\n",
       "      <td>Downtown Toronto</td>\n",
       "      <td>Regent Park, Harbourfront</td>\n",
       "    </tr>\n",
       "    <tr>\n",
       "      <td>3</td>\n",
       "      <td>M6A</td>\n",
       "      <td>North York</td>\n",
       "      <td>Lawrence Manor, Lawrence Heights</td>\n",
       "    </tr>\n",
       "    <tr>\n",
       "      <td>4</td>\n",
       "      <td>M7A</td>\n",
       "      <td>Downtown Toronto</td>\n",
       "      <td>Queen's Park, Ontario Provincial Government</td>\n",
       "    </tr>\n",
       "  </tbody>\n",
       "</table>\n",
       "</div>"
      ],
      "text/plain": [
       "  PostalCode           Borough                                 Neighborhood\n",
       "0        M3A        North York                                    Parkwoods\n",
       "1        M4A        North York                             Victoria Village\n",
       "2        M5A  Downtown Toronto                    Regent Park, Harbourfront\n",
       "3        M6A        North York             Lawrence Manor, Lawrence Heights\n",
       "4        M7A  Downtown Toronto  Queen's Park, Ontario Provincial Government"
      ]
     },
     "execution_count": 13,
     "metadata": {},
     "output_type": "execute_result"
    }
   ],
   "source": [
    "index_filt = table[table['Borough']=='Not assigned'].index\n",
    "table.drop(index_filt, inplace=True)\n",
    "table.reset_index(drop=True, inplace=True)\n",
    "table.head()"
   ]
  },
  {
   "cell_type": "code",
   "execution_count": 14,
   "metadata": {},
   "outputs": [
    {
     "data": {
      "text/plain": [
       "(0,)"
      ]
     },
     "execution_count": 14,
     "metadata": {},
     "output_type": "execute_result"
    }
   ],
   "source": [
    "#Confirming that every postal code listed was assigned a neighborhood in the dataframe\n",
    "Neigh_filtr = table[table['Neighborhood'] == 'Not assigned'].index\n",
    "Neigh_filtr.shape"
   ]
  },
  {
   "cell_type": "code",
   "execution_count": 15,
   "metadata": {},
   "outputs": [
    {
     "data": {
      "text/plain": [
       "(0,)"
      ]
     },
     "execution_count": 15,
     "metadata": {},
     "output_type": "execute_result"
    }
   ],
   "source": [
    "#Confirming that every postal code listed was assigned a borough in the dataframe\n",
    "Borough_filtr = table[table['Borough'] == 'Not assigned'].index\n",
    "Borough_filtr.shape"
   ]
  },
  {
   "cell_type": "markdown",
   "metadata": {},
   "source": [
    "**The cells below will add the geospatial coordinates to the dataframe per associated Postal Code**"
   ]
  },
  {
   "cell_type": "code",
   "execution_count": 16,
   "metadata": {},
   "outputs": [],
   "source": [
    "#Scraping the geospatial data from the web\n",
    "import requests # import \n",
    "\n",
    "req = requests. get('http://cocl.us/Geospatial_data')\n",
    "url_content = req.content\n",
    "csv_file = open('downloaded.csv', 'wb')\n",
    "csv_file.write(url_content)\n",
    "csv_file.close()"
   ]
  },
  {
   "cell_type": "code",
   "execution_count": 17,
   "metadata": {},
   "outputs": [
    {
     "data": {
      "text/html": [
       "<div>\n",
       "<style scoped>\n",
       "    .dataframe tbody tr th:only-of-type {\n",
       "        vertical-align: middle;\n",
       "    }\n",
       "\n",
       "    .dataframe tbody tr th {\n",
       "        vertical-align: top;\n",
       "    }\n",
       "\n",
       "    .dataframe thead th {\n",
       "        text-align: right;\n",
       "    }\n",
       "</style>\n",
       "<table border=\"1\" class=\"dataframe\">\n",
       "  <thead>\n",
       "    <tr style=\"text-align: right;\">\n",
       "      <th></th>\n",
       "      <th>Postal Code</th>\n",
       "      <th>Latitude</th>\n",
       "      <th>Longitude</th>\n",
       "    </tr>\n",
       "  </thead>\n",
       "  <tbody>\n",
       "    <tr>\n",
       "      <td>0</td>\n",
       "      <td>M1B</td>\n",
       "      <td>43.806686</td>\n",
       "      <td>-79.194353</td>\n",
       "    </tr>\n",
       "    <tr>\n",
       "      <td>1</td>\n",
       "      <td>M1C</td>\n",
       "      <td>43.784535</td>\n",
       "      <td>-79.160497</td>\n",
       "    </tr>\n",
       "    <tr>\n",
       "      <td>2</td>\n",
       "      <td>M1E</td>\n",
       "      <td>43.763573</td>\n",
       "      <td>-79.188711</td>\n",
       "    </tr>\n",
       "    <tr>\n",
       "      <td>3</td>\n",
       "      <td>M1G</td>\n",
       "      <td>43.770992</td>\n",
       "      <td>-79.216917</td>\n",
       "    </tr>\n",
       "    <tr>\n",
       "      <td>4</td>\n",
       "      <td>M1H</td>\n",
       "      <td>43.773136</td>\n",
       "      <td>-79.239476</td>\n",
       "    </tr>\n",
       "  </tbody>\n",
       "</table>\n",
       "</div>"
      ],
      "text/plain": [
       "  Postal Code   Latitude  Longitude\n",
       "0         M1B  43.806686 -79.194353\n",
       "1         M1C  43.784535 -79.160497\n",
       "2         M1E  43.763573 -79.188711\n",
       "3         M1G  43.770992 -79.216917\n",
       "4         M1H  43.773136 -79.239476"
      ]
     },
     "execution_count": 17,
     "metadata": {},
     "output_type": "execute_result"
    }
   ],
   "source": [
    "#Reading the coordinates into a Pandas dataframe\n",
    "coord = pd.read_csv('downloaded.csv')\n",
    "coord.head()"
   ]
  },
  {
   "cell_type": "code",
   "execution_count": 18,
   "metadata": {},
   "outputs": [
    {
     "data": {
      "text/plain": [
       "(103, 3)"
      ]
     },
     "execution_count": 18,
     "metadata": {},
     "output_type": "execute_result"
    }
   ],
   "source": [
    "coord.shape"
   ]
  },
  {
   "cell_type": "code",
   "execution_count": 19,
   "metadata": {},
   "outputs": [
    {
     "data": {
      "text/html": [
       "<div>\n",
       "<style scoped>\n",
       "    .dataframe tbody tr th:only-of-type {\n",
       "        vertical-align: middle;\n",
       "    }\n",
       "\n",
       "    .dataframe tbody tr th {\n",
       "        vertical-align: top;\n",
       "    }\n",
       "\n",
       "    .dataframe thead th {\n",
       "        text-align: right;\n",
       "    }\n",
       "</style>\n",
       "<table border=\"1\" class=\"dataframe\">\n",
       "  <thead>\n",
       "    <tr style=\"text-align: right;\">\n",
       "      <th></th>\n",
       "      <th>PostalCode</th>\n",
       "      <th>Borough</th>\n",
       "      <th>Neighborhood</th>\n",
       "      <th>Postal Code</th>\n",
       "      <th>Latitude</th>\n",
       "      <th>Longitude</th>\n",
       "    </tr>\n",
       "  </thead>\n",
       "  <tbody>\n",
       "    <tr>\n",
       "      <td>0</td>\n",
       "      <td>M3A</td>\n",
       "      <td>North York</td>\n",
       "      <td>Parkwoods</td>\n",
       "      <td>M3A</td>\n",
       "      <td>43.753259</td>\n",
       "      <td>-79.329656</td>\n",
       "    </tr>\n",
       "    <tr>\n",
       "      <td>1</td>\n",
       "      <td>M4A</td>\n",
       "      <td>North York</td>\n",
       "      <td>Victoria Village</td>\n",
       "      <td>M4A</td>\n",
       "      <td>43.725882</td>\n",
       "      <td>-79.315572</td>\n",
       "    </tr>\n",
       "    <tr>\n",
       "      <td>2</td>\n",
       "      <td>M5A</td>\n",
       "      <td>Downtown Toronto</td>\n",
       "      <td>Regent Park, Harbourfront</td>\n",
       "      <td>M5A</td>\n",
       "      <td>43.654260</td>\n",
       "      <td>-79.360636</td>\n",
       "    </tr>\n",
       "    <tr>\n",
       "      <td>3</td>\n",
       "      <td>M6A</td>\n",
       "      <td>North York</td>\n",
       "      <td>Lawrence Manor, Lawrence Heights</td>\n",
       "      <td>M6A</td>\n",
       "      <td>43.718518</td>\n",
       "      <td>-79.464763</td>\n",
       "    </tr>\n",
       "    <tr>\n",
       "      <td>4</td>\n",
       "      <td>M7A</td>\n",
       "      <td>Downtown Toronto</td>\n",
       "      <td>Queen's Park, Ontario Provincial Government</td>\n",
       "      <td>M7A</td>\n",
       "      <td>43.662301</td>\n",
       "      <td>-79.389494</td>\n",
       "    </tr>\n",
       "  </tbody>\n",
       "</table>\n",
       "</div>"
      ],
      "text/plain": [
       "  PostalCode           Borough                                 Neighborhood  \\\n",
       "0        M3A        North York                                    Parkwoods   \n",
       "1        M4A        North York                             Victoria Village   \n",
       "2        M5A  Downtown Toronto                    Regent Park, Harbourfront   \n",
       "3        M6A        North York             Lawrence Manor, Lawrence Heights   \n",
       "4        M7A  Downtown Toronto  Queen's Park, Ontario Provincial Government   \n",
       "\n",
       "  Postal Code   Latitude  Longitude  \n",
       "0         M3A  43.753259 -79.329656  \n",
       "1         M4A  43.725882 -79.315572  \n",
       "2         M5A  43.654260 -79.360636  \n",
       "3         M6A  43.718518 -79.464763  \n",
       "4         M7A  43.662301 -79.389494  "
      ]
     },
     "execution_count": 19,
     "metadata": {},
     "output_type": "execute_result"
    }
   ],
   "source": [
    "#Merging the two tables created in order to the coordinates associated with each postal code in Toronto\n",
    "final_table = pd.merge(table, coord, right_on='Postal Code', left_on='PostalCode')\n",
    "final_table.head()"
   ]
  },
  {
   "cell_type": "code",
   "execution_count": 20,
   "metadata": {},
   "outputs": [
    {
     "data": {
      "text/html": [
       "<div>\n",
       "<style scoped>\n",
       "    .dataframe tbody tr th:only-of-type {\n",
       "        vertical-align: middle;\n",
       "    }\n",
       "\n",
       "    .dataframe tbody tr th {\n",
       "        vertical-align: top;\n",
       "    }\n",
       "\n",
       "    .dataframe thead th {\n",
       "        text-align: right;\n",
       "    }\n",
       "</style>\n",
       "<table border=\"1\" class=\"dataframe\">\n",
       "  <thead>\n",
       "    <tr style=\"text-align: right;\">\n",
       "      <th></th>\n",
       "      <th>PostalCode</th>\n",
       "      <th>Borough</th>\n",
       "      <th>Neighborhood</th>\n",
       "      <th>Latitude</th>\n",
       "      <th>Longitude</th>\n",
       "    </tr>\n",
       "  </thead>\n",
       "  <tbody>\n",
       "    <tr>\n",
       "      <td>0</td>\n",
       "      <td>M3A</td>\n",
       "      <td>North York</td>\n",
       "      <td>Parkwoods</td>\n",
       "      <td>43.753259</td>\n",
       "      <td>-79.329656</td>\n",
       "    </tr>\n",
       "    <tr>\n",
       "      <td>1</td>\n",
       "      <td>M4A</td>\n",
       "      <td>North York</td>\n",
       "      <td>Victoria Village</td>\n",
       "      <td>43.725882</td>\n",
       "      <td>-79.315572</td>\n",
       "    </tr>\n",
       "    <tr>\n",
       "      <td>2</td>\n",
       "      <td>M5A</td>\n",
       "      <td>Downtown Toronto</td>\n",
       "      <td>Regent Park, Harbourfront</td>\n",
       "      <td>43.654260</td>\n",
       "      <td>-79.360636</td>\n",
       "    </tr>\n",
       "    <tr>\n",
       "      <td>3</td>\n",
       "      <td>M6A</td>\n",
       "      <td>North York</td>\n",
       "      <td>Lawrence Manor, Lawrence Heights</td>\n",
       "      <td>43.718518</td>\n",
       "      <td>-79.464763</td>\n",
       "    </tr>\n",
       "    <tr>\n",
       "      <td>4</td>\n",
       "      <td>M7A</td>\n",
       "      <td>Downtown Toronto</td>\n",
       "      <td>Queen's Park, Ontario Provincial Government</td>\n",
       "      <td>43.662301</td>\n",
       "      <td>-79.389494</td>\n",
       "    </tr>\n",
       "  </tbody>\n",
       "</table>\n",
       "</div>"
      ],
      "text/plain": [
       "  PostalCode           Borough                                 Neighborhood  \\\n",
       "0        M3A        North York                                    Parkwoods   \n",
       "1        M4A        North York                             Victoria Village   \n",
       "2        M5A  Downtown Toronto                    Regent Park, Harbourfront   \n",
       "3        M6A        North York             Lawrence Manor, Lawrence Heights   \n",
       "4        M7A  Downtown Toronto  Queen's Park, Ontario Provincial Government   \n",
       "\n",
       "    Latitude  Longitude  \n",
       "0  43.753259 -79.329656  \n",
       "1  43.725882 -79.315572  \n",
       "2  43.654260 -79.360636  \n",
       "3  43.718518 -79.464763  \n",
       "4  43.662301 -79.389494  "
      ]
     },
     "execution_count": 20,
     "metadata": {},
     "output_type": "execute_result"
    }
   ],
   "source": [
    "#Since there are two columns with the same the postal code information, we drop one of them\n",
    "final_table.pop('Postal Code')\n",
    "final_table.head()"
   ]
  },
  {
   "cell_type": "code",
   "execution_count": 21,
   "metadata": {},
   "outputs": [
    {
     "data": {
      "text/plain": [
       "(103, 5)"
      ]
     },
     "execution_count": 21,
     "metadata": {},
     "output_type": "execute_result"
    }
   ],
   "source": [
    "final_table.shape"
   ]
  },
  {
   "cell_type": "markdown",
   "metadata": {},
   "source": [
    "**Let's create a superimposed map of the neighborhoods of Toronto with the data we have**"
   ]
  },
  {
   "cell_type": "code",
   "execution_count": 22,
   "metadata": {},
   "outputs": [
    {
     "name": "stdout",
     "output_type": "stream",
     "text": [
      "Collecting package metadata (current_repodata.json): ...working... done\n",
      "Solving environment: ...working... done\n",
      "\n",
      "# All requested packages already installed.\n",
      "\n"
     ]
    }
   ],
   "source": [
    "# Required dependecies for a map\n",
    "!conda install -c conda-forge folium=0.5.0 --yes \n",
    "import folium # map rendering library"
   ]
  },
  {
   "cell_type": "code",
   "execution_count": 23,
   "metadata": {},
   "outputs": [],
   "source": [
    "final_table['BoroughDum']=final_table['Borough']\n",
    "kclusters=len(final_table['BoroughDum'].unique())"
   ]
  },
  {
   "cell_type": "code",
   "execution_count": 24,
   "metadata": {},
   "outputs": [],
   "source": [
    "final_table['BoroughDum'].replace(to_replace=['North York', 'Downtown Toronto', 'Etobicoke', 'Scarborough',\n",
    "       'East York', 'York', 'East Toronto', 'West Toronto',\n",
    "       'Central Toronto', 'Mississauga'], value=[0,1,2,3,4,5,6,7,8,9],inplace=True)"
   ]
  },
  {
   "cell_type": "code",
   "execution_count": 25,
   "metadata": {},
   "outputs": [
    {
     "name": "stdout",
     "output_type": "stream",
     "text": [
      "The geospatial coordinates of Toronto are 43.6534817, -79.3839347.\n"
     ]
    }
   ],
   "source": [
    "address = 'Toronto, CA'\n",
    "\n",
    "geolocator = Nominatim(user_agent=\"to_explorer\")\n",
    "location = geolocator.geocode(address)\n",
    "latitude = location.latitude\n",
    "longitude = location.longitude\n",
    "print('The geospatial coordinates of Toronto are {}, {}.'.format(latitude, longitude))"
   ]
  },
  {
   "cell_type": "code",
   "execution_count": 26,
   "metadata": {},
   "outputs": [
    {
     "data": {
      "text/html": [
       "<div style=\"width:100%;\"><div style=\"position:relative;width:100%;height:0;padding-bottom:60%;\"><span style=\"color:#565656\">Make this Notebook Trusted to load map: File -> Trust Notebook</span><iframe src=\"about:blank\" style=\"position:absolute;width:100%;height:100%;left:0;top:0;border:none !important;\" data-html=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 onload=\"this.contentDocument.open();this.contentDocument.write(atob(this.getAttribute('data-html')));this.contentDocument.close();\" allowfullscreen webkitallowfullscreen mozallowfullscreen></iframe></div></div>"
      ],
      "text/plain": [
       "<folium.folium.Map at 0x27effd86b88>"
      ]
     },
     "execution_count": 26,
     "metadata": {},
     "output_type": "execute_result"
    }
   ],
   "source": [
    "# create map\n",
    "map_clusters = folium.Map(location=[latitude, longitude], zoom_start=10)\n",
    "\n",
    "# set color scheme for the clusters\n",
    "x = np.arange(kclusters)\n",
    "ys = [i + x + (i*x)**2 for i in range(kclusters)]\n",
    "colors_array = cm.rainbow(np.linspace(0, 1, len(ys)))\n",
    "rainbow = [colors.rgb2hex(i) for i in colors_array]\n",
    "\n",
    "# add markers to the map\n",
    "markers_colors = []\n",
    "for lat, lon, poi, cluster in zip(final_table['Latitude'], final_table['Longitude'], final_table['Borough'], final_table['BoroughDum']):\n",
    "    label = folium.Popup(str(poi) + ' Neighborhood ' + str(cluster), parse_html=True)\n",
    "    folium.CircleMarker(\n",
    "        [lat, lon],\n",
    "        radius=5,\n",
    "        popup=label,\n",
    "        color=rainbow[cluster-1],\n",
    "        fill=True,\n",
    "        fill_color=rainbow[cluster-1],\n",
    "        fill_opacity=0.7).add_to(map_clusters)\n",
    "       \n",
    "map_clusters"
   ]
  },
  {
   "cell_type": "code",
   "execution_count": null,
   "metadata": {},
   "outputs": [],
   "source": []
  }
 ],
 "metadata": {
  "kernelspec": {
   "display_name": "Python 3",
   "language": "python",
   "name": "python3"
  },
  "language_info": {
   "codemirror_mode": {
    "name": "ipython",
    "version": 3
   },
   "file_extension": ".py",
   "mimetype": "text/x-python",
   "name": "python",
   "nbconvert_exporter": "python",
   "pygments_lexer": "ipython3",
   "version": "3.7.4"
  }
 },
 "nbformat": 4,
 "nbformat_minor": 1
}
