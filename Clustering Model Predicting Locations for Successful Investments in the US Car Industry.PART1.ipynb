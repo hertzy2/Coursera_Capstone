{
 "cells": [
  {
   "cell_type": "markdown",
   "metadata": {},
   "source": [
    "<h5>Capstone Project: Business Problem</h5>\n",
    "by Frantzdy Hervé\n",
    "<h3>Introduction</h3> \n",
    "The car industry has been booming recently in the United States [Source: Investopedia](https://www.investopedia.com/articles/pf/12/auto-industry.asp#:~:text=The%20U.S.%20economy%20was%20booming,million%20new%20cars%20were%20sold.&text=Among%20the%20more%20notable%20early,difficult%20recession%20of%202007%2D2008.). The tendency now favors more and more electric vehicles as they are viewed to be more environmentally-friendly and their design gives a feel of vehicles of the future. An automaker, namely Tesla, has particularly grown rapidly and its sales are projected to only increase in the future [Source: History of the electric vehicles](https://www.energy.gov/articles/history-electric-car#:~:text=First%20Crude%20Electric%20Vehicle%20Is,an%20English%20inventor%20in%201884). The ambitious investor might also be wondering:'What is in it for me?'\n",
    "\n",
    "If electric vehicles seem to be very attractive to the consumer, their price and the infrastructure that is required to facilitate their charging or even their construction do not seem to be particularly approachable. The latter seems to be the most challenging aspect of it all when one considers the fact that electric vehicles are almost completely different to the traditional vehicles when it comes to their engine outlook, their transmission system, their source of power, and the highly advanced technology needed for their computing wiring. In order to fathom how difficult these challenges are, we could preview what range of obstacles Tesla has had to face, (and continue to) just a few years ago to produce its cars from scratch in a gigafactory. Based on the poor financial performance they had just 3 years ago, there were some predictions indicating that they would not survive in the market for long. However, the persistence of its ceo has proved to pay off as he fafced all the challenges head on and planned accordingly. Today, this segment of the car industry in the US seems to be only promising and that might be what any investor willing to find a niche for highly profitable investments would be interested in.\n",
    "\n",
    "<h3>Business Problem</h3>\n",
    "As mentioned earlier, the electric vehicles represent a niche which requires massive investment to build the infrastructure needed. [Source: Estimates for building a charging station](https://www.homeadvisor.com/cost/garages/install-an-electric-vehicle-charging-station/#:~:text=The%20national%20average%20for%20installing,median%20cost%20is%20%24731%20each). This obstacle could be largely offset, though, by the financial gain any smart investment in the electric car industry might yield. Based on the most pessimistic predictions, the traditional combustion engine will go extinct in about ten years while the increase in consumer's demand for electric cars and auto parts will continue at a staggering rate of 21% [Source: Booming demand for electric vehicles](https://www.marketsandmarkets.com/Market-Reports/electric-vehicle-market-209371461.html). The key to grapple here is that the demand is not uniform in the US, all the states are not equal when it comes to growth in any sector. And, specifically, because of disparity in terms of the growth in the population by state and by urban area, job opportunities, and income per capita, one must be very cautious when targetting locations for their investment in said sector. As such, the need to identify the states and the cities where the demand for reliable transportation would be the most promising is then a good place to start. And this factor alone could be a good strategy to mobilize the funds needed as the early investors might break even from their investment in just a couple of quarters. However, the question remains, in what urban areas the demand for electric vehicles might be the highest? What states would then see these demands manifested the highest?\n",
    "\n",
    "<h3>What we propose</h3>\n",
    "The following lines will provide a comprehensive approach to predict the states where the demand for cars and auto parts will continue to grow and identify the urban areas where the population seems to be the most active. This solution is inspired by the data provided from the US Bureau of Economic Analysis (BEA) and the platform provided by Foursquare to locate areas where most venues are frequented. We will then leverage data using the BEA's API guidance and the well-structured platform designed by Foursquare. \n",
    "<dl>\n",
    "  <dt>Our approach is two-fold:</dt>\n",
    "  <dd>1. First, we pull data from the BEA's website related to the production level in each US state, the population, the income per capita and the consumer's spending for the past 11 years. This would allow us to use enough data that would increase the model accuracy in terms of predicting the 5 states with the highest demand for cars and auto parts for the years to come;</dd>\n",
    "  <dd>2. Finally, we use the Foursquare platform to locate those urban areas where the population seems to be the most active from the states previously identified;</dd>\n",
    "  A later submission will have the second part of the assignment which is a presentation of the data section.\n",
    "   </dl>"
   ]
  },
  {
   "cell_type": "code",
   "execution_count": null,
   "metadata": {},
   "outputs": [],
   "source": []
  }
 ],
 "metadata": {
  "kernelspec": {
   "display_name": "Python 3",
   "language": "python",
   "name": "python3"
  },
  "language_info": {
   "codemirror_mode": {
    "name": "ipython",
    "version": 3
   },
   "file_extension": ".py",
   "mimetype": "text/x-python",
   "name": "python",
   "nbconvert_exporter": "python",
   "pygments_lexer": "ipython3",
   "version": "3.7.4"
  }
 },
 "nbformat": 4,
 "nbformat_minor": 2
}
