{
 "cells": [
  {
   "cell_type": "markdown",
   "metadata": {
    "collapsed": true
   },
   "source": [
    "# <h3>Assignment # 2: </h3><h1>Segmenting and Clustering Neighborhoods in Toronto</h1>\n",
    "<h5>by</h5><h3>Frantzdy Hervé</h3> \n",
    "<dl> </dl>\n",
    "  <dl>\n",
    "  <dt>Summary:</dt>\n",
    "  <dd>1. First, we start by creating a new Notebook for this assignment;</dd>\n",
    "  <dd>2. Second, we use the Notebook to build the code to scrape a given Wikipedia page;</dd>\n",
    "  <dd>3. Third, create the relevant Dataframe;</dd>\n",
    "  <dd>4. Finally, we submit a link to our Notebook on our Github repository.</dd>\n",
    "</dl>"
   ]
  },
  {
   "cell_type": "markdown",
   "metadata": {},
   "source": [
    "**The following cells will build the code to scrape the given Wikipedia page:** https://en.wikipedia.org/wiki/List_of_postal_codes_of_Canada:_M"
   ]
  },
  {
   "cell_type": "code",
   "execution_count": null,
   "metadata": {},
   "outputs": [
    {
     "name": "stdout",
     "output_type": "stream",
     "text": [
      "Requirement already satisfied: beautifulsoup4 in c:\\users\\hertzy\\anaconda3\\lib\\site-packages (4.8.0)\n",
      "Requirement already satisfied: soupsieve>=1.2 in c:\\users\\hertzy\\anaconda3\\lib\\site-packages (from beautifulsoup4) (1.9.3)\n",
      "Requirement already satisfied: lxml in c:\\users\\hertzy\\anaconda3\\lib\\site-packages (4.4.1)\n"
     ]
    }
   ],
   "source": [
    "!pip install beautifulsoup4\n",
    "!pip install lxml\n",
    "import requests # library to handle requests\n",
    "import pandas as pd # library for data analsysis\n",
    "import numpy as np # library to handle data in a vectorized manner\n",
    "import random # library for random number generation\n",
    "\n",
    "#!conda install -c conda-forge geopy --yes \n",
    "from geopy.geocoders import Nominatim # module to convert an address into latitude and longitude values\n",
    "\n",
    "# libraries for displaying images\n",
    "from IPython.display import Image \n",
    "from IPython.core.display import HTML \n",
    "\n",
    "\n",
    "from IPython.display import display_html\n",
    "import pandas as pd\n",
    "import numpy as np\n",
    "    \n",
    "# tranforming json file into a pandas dataframe library\n",
    "from pandas.io.json import json_normalize\n",
    "\n",
    "!conda install -c conda-forge folium=0.5.0 --yes\n",
    "import folium # plotting library\n",
    "from bs4 import BeautifulSoup\n",
    "from sklearn.cluster import KMeans\n",
    "import matplotlib.cm as cm\n",
    "import matplotlib.colors as colors"
   ]
  },
  {
   "cell_type": "code",
   "execution_count": null,
   "metadata": {},
   "outputs": [],
   "source": [
    "website_url = requests.get('https://en.wikipedia.org/wiki/List_of_postal_codes_of_Canada:_M').text"
   ]
  },
  {
   "cell_type": "code",
   "execution_count": null,
   "metadata": {},
   "outputs": [],
   "source": [
    "from bs4 import BeautifulSoup\n",
    "soup = BeautifulSoup(website_url,'lxml')"
   ]
  },
  {
   "cell_type": "code",
   "execution_count": null,
   "metadata": {},
   "outputs": [],
   "source": [
    "My_table = soup.find('table',{'class':'wikitable sortable'})"
   ]
  },
  {
   "cell_type": "markdown",
   "metadata": {},
   "source": [
    "**The cells below will create a dataframe following the example provided in the assignment**"
   ]
  },
  {
   "cell_type": "code",
   "execution_count": null,
   "metadata": {},
   "outputs": [],
   "source": [
    "#Extracting the rows from the wikipedia table\n",
    "all_rows = []\n",
    "for row in My_table.findAll('td'):\n",
    "    all_rows.append(row.text)"
   ]
  },
  {
   "cell_type": "code",
   "execution_count": null,
   "metadata": {},
   "outputs": [],
   "source": [
    "#A list is created out of each element in their given order so each one representing a postal code, a borough, or a neighborhood can be added accordingly\n",
    "elt = ''\n",
    "row = []\n",
    "PC = []\n",
    "Bo = []\n",
    "Ne = []\n",
    "\n",
    "for line in all_rows:\n",
    "    #elt.append(line.get_text)\n",
    "    #elt = line.rstrip('\\n')   #strip \\n the end of each line \n",
    "    row.append(line.rstrip('\\n'))\n",
    "\n",
    "PC.append(row[::3])\n",
    "Bo.append(row[1::3])\n",
    "Ne.append(row[2::3])\n"
   ]
  },
  {
   "cell_type": "code",
   "execution_count": null,
   "metadata": {},
   "outputs": [],
   "source": [
    "#Checking that the list of lists PC contains only the postal codes extracted\n",
    "PC[0][0:10]"
   ]
  },
  {
   "cell_type": "code",
   "execution_count": null,
   "metadata": {},
   "outputs": [],
   "source": [
    "#merging the list into a single table that contains all the three columns created earlier\n",
    "PC1=PC.pop(0)\n",
    "Bo1=Bo.pop(0)\n",
    "Ne1=Ne.pop(0)\n",
    "\n",
    "col1 = pd.Series(PC1, name='PostalCode')\n",
    "col2 = pd.Series(Bo1, name='Borough')\n",
    "col3 = pd.Series(Ne1, name='Neighborhood')\n",
    "\n",
    "table = pd.concat([col1, col2, col3], axis=1)"
   ]
  },
  {
   "cell_type": "code",
   "execution_count": null,
   "metadata": {
    "scrolled": false
   },
   "outputs": [],
   "source": [
    "#checking the first few rows of the table to observe the occurences of 'Not assigned' values\n",
    "table.head(10)"
   ]
  },
  {
   "cell_type": "code",
   "execution_count": null,
   "metadata": {},
   "outputs": [],
   "source": [
    "#Filter on the 'Not assigned values'\n",
    "Neigh_filtr = table[table['Neighborhood'] == 'Not assigned'].index\n",
    "Neigh_filtr.shape"
   ]
  },
  {
   "cell_type": "code",
   "execution_count": null,
   "metadata": {},
   "outputs": [],
   "source": [
    "Borough_filtr = table[table['Borough'] == 'Not assigned'].index\n",
    "Borough_filtr.shape"
   ]
  },
  {
   "cell_type": "code",
   "execution_count": null,
   "metadata": {},
   "outputs": [],
   "source": [
    "#Apparently, the same postal code that have not been assigned a borough has not been assigned a neighborhood either"
   ]
  },
  {
   "cell_type": "code",
   "execution_count": null,
   "metadata": {},
   "outputs": [],
   "source": [
    "index_filt = table[table['Borough']=='Not assigned'].index\n",
    "table.drop(index_filt, inplace=True)\n",
    "table.reset_index(drop=True, inplace=True)\n",
    "table.head()"
   ]
  },
  {
   "cell_type": "code",
   "execution_count": null,
   "metadata": {},
   "outputs": [],
   "source": [
    "#Confirming that every postal code listed was assigned a neighborhood in the dataframe\n",
    "Neigh_filtr = table[table['Neighborhood'] == 'Not assigned'].index\n",
    "Neigh_filtr.shape"
   ]
  },
  {
   "cell_type": "code",
   "execution_count": null,
   "metadata": {},
   "outputs": [],
   "source": [
    "#Confirming that every postal code listed was assigned a borough in the dataframe\n",
    "Borough_filtr = table[table['Borough'] == 'Not assigned'].index\n",
    "Borough_filtr.shape"
   ]
  },
  {
   "cell_type": "markdown",
   "metadata": {},
   "source": [
    "**The cells below will add the geospatial coordinates to the dataframe per associated Postal Code**"
   ]
  },
  {
   "cell_type": "code",
   "execution_count": null,
   "metadata": {},
   "outputs": [],
   "source": [
    "#Scraping the geospatial data from the web\n",
    "import requests # import \n",
    "\n",
    "req = requests. get('http://cocl.us/Geospatial_data')\n",
    "url_content = req.content\n",
    "csv_file = open('downloaded.csv', 'wb')\n",
    "csv_file.write(url_content)\n",
    "csv_file.close()"
   ]
  },
  {
   "cell_type": "code",
   "execution_count": null,
   "metadata": {},
   "outputs": [],
   "source": [
    "#Reading the coordinates into a Pandas dataframe\n",
    "coord = pd.read_csv('downloaded.csv')\n",
    "coord.head()"
   ]
  },
  {
   "cell_type": "code",
   "execution_count": null,
   "metadata": {},
   "outputs": [],
   "source": [
    "coord.shape"
   ]
  },
  {
   "cell_type": "code",
   "execution_count": null,
   "metadata": {},
   "outputs": [],
   "source": [
    "#Merging the two tables created in order to the coordinates associated with each postal code in Toronto\n",
    "final_table = pd.merge(table, coord, right_on='Postal Code', left_on='PostalCode')\n",
    "final_table.head()"
   ]
  },
  {
   "cell_type": "code",
   "execution_count": null,
   "metadata": {},
   "outputs": [],
   "source": [
    "#Since there are two columns with the same the postal code information, we drop one of them\n",
    "final_table.pop('Postal Code')\n",
    "final_table.head()"
   ]
  },
  {
   "cell_type": "code",
   "execution_count": null,
   "metadata": {},
   "outputs": [],
   "source": [
    "final_table.shape"
   ]
  },
  {
   "cell_type": "markdown",
   "metadata": {},
   "source": [
    "**Let's create a superimposed map of the neighborhoods of Toronto with the data we have**"
   ]
  },
  {
   "cell_type": "code",
   "execution_count": null,
   "metadata": {},
   "outputs": [],
   "source": [
    "# Required dependecies for a map\n",
    "!conda install -c conda-forge folium=0.5.0 --yes \n",
    "import folium # map rendering library"
   ]
  },
  {
   "cell_type": "code",
   "execution_count": null,
   "metadata": {},
   "outputs": [],
   "source": [
    "final_table['BoroughDum']=final_table['Borough']\n",
    "kclusters=len(final_table['BoroughDum'].unique())"
   ]
  },
  {
   "cell_type": "code",
   "execution_count": null,
   "metadata": {},
   "outputs": [],
   "source": [
    "final_table['BoroughDum'].replace(to_replace=['North York', 'Downtown Toronto', 'Etobicoke', 'Scarborough',\n",
    "       'East York', 'York', 'East Toronto', 'West Toronto',\n",
    "       'Central Toronto', 'Mississauga'], value=[0,1,2,3,4,5,6,7,8,9],inplace=True)"
   ]
  },
  {
   "cell_type": "code",
   "execution_count": null,
   "metadata": {},
   "outputs": [],
   "source": [
    "address = 'Toronto, CA'\n",
    "\n",
    "geolocator = Nominatim(user_agent=\"to_explorer\")\n",
    "location = geolocator.geocode(address)\n",
    "latitude = location.latitude\n",
    "longitude = location.longitude\n",
    "print('The geospatial coordinates of Toronto are {}, {}.'.format(latitude, longitude))"
   ]
  },
  {
   "cell_type": "code",
   "execution_count": null,
   "metadata": {},
   "outputs": [],
   "source": [
    "# create map\n",
    "map_clusters = folium.Map(location=[latitude, longitude], zoom_start=10)\n",
    "\n",
    "# set color scheme for the clusters\n",
    "x = np.arange(kclusters)\n",
    "ys = [i + x + (i*x)**2 for i in range(kclusters)]\n",
    "colors_array = cm.rainbow(np.linspace(0, 1, len(ys)))\n",
    "rainbow = [colors.rgb2hex(i) for i in colors_array]\n",
    "\n",
    "# add markers to the map\n",
    "markers_colors = []\n",
    "for lat, lon, poi, cluster in zip(final_table['Latitude'], final_table['Longitude'], final_table['Borough'], final_table['BoroughDum']):\n",
    "    label = folium.Popup(str(poi) + ' Neighborhood ' + str(cluster), parse_html=True)\n",
    "    folium.CircleMarker(\n",
    "        [lat, lon],\n",
    "        radius=5,\n",
    "        popup=label,\n",
    "        color=rainbow[cluster-1],\n",
    "        fill=True,\n",
    "        fill_color=rainbow[cluster-1],\n",
    "        fill_opacity=0.7).add_to(map_clusters)\n",
    "       \n",
    "map_clusters"
   ]
  },
  {
   "cell_type": "code",
   "execution_count": null,
   "metadata": {},
   "outputs": [],
   "source": []
  }
 ],
 "metadata": {
  "kernelspec": {
   "display_name": "Python 3",
   "language": "python",
   "name": "python3"
  },
  "language_info": {
   "codemirror_mode": {
    "name": "ipython",
    "version": 3
   },
   "file_extension": ".py",
   "mimetype": "text/x-python",
   "name": "python",
   "nbconvert_exporter": "python",
   "pygments_lexer": "ipython3",
   "version": "3.7.4"
  }
 },
 "nbformat": 4,
 "nbformat_minor": 1
}
