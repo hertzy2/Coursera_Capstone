{
 "cells": [
  {
   "cell_type": "markdown",
   "metadata": {
    "collapsed": true
   },
   "source": [
    "# <h3>Assignment # 2: </h3><h1>Segmenting and Clustering Neighborhoods in Toronto</h1>\n",
    "<h5>by</h5><h3>Frantzdy Hervé</h3> \n",
    "<dl> </dl>\n",
    "  <dl>\n",
    "  <dt>Summary:</dt>\n",
    "  <dd>1. First, we start by creating a new Notebook for this assignment;</dd>\n",
    "  <dd>2. Second, we use the Notebook to build the code to scrape a given Wikipedia page;</dd>\n",
    "  <dd>3. Third, create the relevant Dataframe;</dd>\n",
    "  <dd>4. Finally, we submit a link to our Notebook on our Github repository.</dd>\n",
    "</dl>"
   ]
  },
  {
   "cell_type": "markdown",
   "metadata": {},
   "source": [
    "**The following cells will build the code to scrape the given Wikipedia page:** https://en.wikipedia.org/wiki/List_of_postal_codes_of_Canada:_M"
   ]
  },
  {
   "cell_type": "code",
   "execution_count": 1,
   "metadata": {},
   "outputs": [
    {
     "name": "stdout",
     "output_type": "stream",
     "text": [
      "Requirement already satisfied: beautifulsoup4 in c:\\users\\hertzy\\anaconda3\\lib\\site-packages (4.8.0)\n",
      "Requirement already satisfied: soupsieve>=1.2 in c:\\users\\hertzy\\anaconda3\\lib\\site-packages (from beautifulsoup4) (1.9.3)\n",
      "Requirement already satisfied: lxml in c:\\users\\hertzy\\anaconda3\\lib\\site-packages (4.4.1)\n",
      "Collecting package metadata (current_repodata.json): ...working... done\n",
      "Solving environment: ...working... done\n",
      "\n",
      "# All requested packages already installed.\n",
      "\n"
     ]
    }
   ],
   "source": [
    "!pip install beautifulsoup4\n",
    "!pip install lxml\n",
    "import requests # library to handle requests\n",
    "import pandas as pd # library for data analsysis\n",
    "import numpy as np # library to handle data in a vectorized manner\n",
    "import random # library for random number generation\n",
    "\n",
    "#!conda install -c conda-forge geopy --yes \n",
    "from geopy.geocoders import Nominatim # module to convert an address into latitude and longitude values\n",
    "\n",
    "# libraries for displaying images\n",
    "from IPython.display import Image \n",
    "from IPython.core.display import HTML \n",
    "\n",
    "\n",
    "from IPython.display import display_html\n",
    "import pandas as pd\n",
    "import numpy as np\n",
    "    \n",
    "# tranforming json file into a pandas dataframe library\n",
    "from pandas.io.json import json_normalize\n",
    "\n",
    "!conda install -c conda-forge folium=0.5.0 --yes\n",
    "import folium # plotting library\n",
    "from bs4 import BeautifulSoup\n",
    "from sklearn.cluster import KMeans\n",
    "import matplotlib.cm as cm\n",
    "import matplotlib.colors as colors"
   ]
  },
  {
   "cell_type": "code",
   "execution_count": 2,
   "metadata": {},
   "outputs": [],
   "source": [
    "website_url = requests.get('https://en.wikipedia.org/wiki/List_of_postal_codes_of_Canada:_M').text"
   ]
  },
  {
   "cell_type": "code",
   "execution_count": 3,
   "metadata": {},
   "outputs": [],
   "source": [
    "from bs4 import BeautifulSoup\n",
    "soup = BeautifulSoup(website_url,'lxml')"
   ]
  },
  {
   "cell_type": "code",
   "execution_count": 4,
   "metadata": {},
   "outputs": [],
   "source": [
    "My_table = soup.find('table',{'class':'wikitable sortable'})"
   ]
  },
  {
   "cell_type": "markdown",
   "metadata": {},
   "source": [
    "**The cells below will create a dataframe following the example provided in the assignment**"
   ]
  },
  {
   "cell_type": "code",
   "execution_count": 5,
   "metadata": {},
   "outputs": [],
   "source": [
    "#Extracting the rows from the wikipedia table\n",
    "all_rows = []\n",
    "for row in My_table.findAll('td'):\n",
    "    all_rows.append(row.text)"
   ]
  },
  {
   "cell_type": "code",
   "execution_count": 6,
   "metadata": {},
   "outputs": [],
   "source": [
    "#A list is created out of each element in their given order so each one representing a postal code, a borough, or a neighborhood can be added accordingly\n",
    "elt = ''\n",
    "row = []\n",
    "PC = []\n",
    "Bo = []\n",
    "Ne = []\n",
    "\n",
    "for line in all_rows:\n",
    "    #elt.append(line.get_text)\n",
    "    #elt = line.rstrip('\\n')   #strip \\n the end of each line \n",
    "    row.append(line.rstrip('\\n'))\n",
    "\n",
    "PC.append(row[::3])\n",
    "Bo.append(row[1::3])\n",
    "Ne.append(row[2::3])\n"
   ]
  },
  {
   "cell_type": "code",
   "execution_count": 7,
   "metadata": {},
   "outputs": [
    {
     "data": {
      "text/plain": [
       "['M1A', 'M2A', 'M3A', 'M4A', 'M5A', 'M6A', 'M7A', 'M8A', 'M9A', 'M1B']"
      ]
     },
     "execution_count": 7,
     "metadata": {},
     "output_type": "execute_result"
    }
   ],
   "source": [
    "#Checking that the list of lists PC contains only the postal codes extracted\n",
    "PC[0][0:10]"
   ]
  },
  {
   "cell_type": "code",
   "execution_count": 8,
   "metadata": {},
   "outputs": [],
   "source": [
    "#merging the list into a single table that contains all the three columns created earlier\n",
    "PC1=PC.pop(0)\n",
    "Bo1=Bo.pop(0)\n",
    "Ne1=Ne.pop(0)\n",
    "\n",
    "col1 = pd.Series(PC1, name='PostalCode')\n",
    "col2 = pd.Series(Bo1, name='Borough')\n",
    "col3 = pd.Series(Ne1, name='Neighborhood')\n",
    "\n",
    "table = pd.concat([col1, col2, col3], axis=1)"
   ]
  },
  {
   "cell_type": "code",
   "execution_count": 9,
   "metadata": {
    "scrolled": false
   },
   "outputs": [
    {
     "data": {
      "text/html": [
       "<div>\n",
       "<style scoped>\n",
       "    .dataframe tbody tr th:only-of-type {\n",
       "        vertical-align: middle;\n",
       "    }\n",
       "\n",
       "    .dataframe tbody tr th {\n",
       "        vertical-align: top;\n",
       "    }\n",
       "\n",
       "    .dataframe thead th {\n",
       "        text-align: right;\n",
       "    }\n",
       "</style>\n",
       "<table border=\"1\" class=\"dataframe\">\n",
       "  <thead>\n",
       "    <tr style=\"text-align: right;\">\n",
       "      <th></th>\n",
       "      <th>PostalCode</th>\n",
       "      <th>Borough</th>\n",
       "      <th>Neighborhood</th>\n",
       "    </tr>\n",
       "  </thead>\n",
       "  <tbody>\n",
       "    <tr>\n",
       "      <td>0</td>\n",
       "      <td>M1A</td>\n",
       "      <td>Not assigned</td>\n",
       "      <td>Not assigned</td>\n",
       "    </tr>\n",
       "    <tr>\n",
       "      <td>1</td>\n",
       "      <td>M2A</td>\n",
       "      <td>Not assigned</td>\n",
       "      <td>Not assigned</td>\n",
       "    </tr>\n",
       "    <tr>\n",
       "      <td>2</td>\n",
       "      <td>M3A</td>\n",
       "      <td>North York</td>\n",
       "      <td>Parkwoods</td>\n",
       "    </tr>\n",
       "    <tr>\n",
       "      <td>3</td>\n",
       "      <td>M4A</td>\n",
       "      <td>North York</td>\n",
       "      <td>Victoria Village</td>\n",
       "    </tr>\n",
       "    <tr>\n",
       "      <td>4</td>\n",
       "      <td>M5A</td>\n",
       "      <td>Downtown Toronto</td>\n",
       "      <td>Regent Park, Harbourfront</td>\n",
       "    </tr>\n",
       "    <tr>\n",
       "      <td>5</td>\n",
       "      <td>M6A</td>\n",
       "      <td>North York</td>\n",
       "      <td>Lawrence Manor, Lawrence Heights</td>\n",
       "    </tr>\n",
       "    <tr>\n",
       "      <td>6</td>\n",
       "      <td>M7A</td>\n",
       "      <td>Downtown Toronto</td>\n",
       "      <td>Queen's Park, Ontario Provincial Government</td>\n",
       "    </tr>\n",
       "    <tr>\n",
       "      <td>7</td>\n",
       "      <td>M8A</td>\n",
       "      <td>Not assigned</td>\n",
       "      <td>Not assigned</td>\n",
       "    </tr>\n",
       "    <tr>\n",
       "      <td>8</td>\n",
       "      <td>M9A</td>\n",
       "      <td>Etobicoke</td>\n",
       "      <td>Islington Avenue, Humber Valley Village</td>\n",
       "    </tr>\n",
       "    <tr>\n",
       "      <td>9</td>\n",
       "      <td>M1B</td>\n",
       "      <td>Scarborough</td>\n",
       "      <td>Malvern, Rouge</td>\n",
       "    </tr>\n",
       "  </tbody>\n",
       "</table>\n",
       "</div>"
      ],
      "text/plain": [
       "  PostalCode           Borough                                 Neighborhood\n",
       "0        M1A      Not assigned                                 Not assigned\n",
       "1        M2A      Not assigned                                 Not assigned\n",
       "2        M3A        North York                                    Parkwoods\n",
       "3        M4A        North York                             Victoria Village\n",
       "4        M5A  Downtown Toronto                    Regent Park, Harbourfront\n",
       "5        M6A        North York             Lawrence Manor, Lawrence Heights\n",
       "6        M7A  Downtown Toronto  Queen's Park, Ontario Provincial Government\n",
       "7        M8A      Not assigned                                 Not assigned\n",
       "8        M9A         Etobicoke      Islington Avenue, Humber Valley Village\n",
       "9        M1B       Scarborough                               Malvern, Rouge"
      ]
     },
     "execution_count": 9,
     "metadata": {},
     "output_type": "execute_result"
    }
   ],
   "source": [
    "#checking the first few rows of the table to observe the occurences of 'Not assigned' values\n",
    "table.head(10)"
   ]
  },
  {
   "cell_type": "code",
   "execution_count": 10,
   "metadata": {},
   "outputs": [
    {
     "data": {
      "text/plain": [
       "(77,)"
      ]
     },
     "execution_count": 10,
     "metadata": {},
     "output_type": "execute_result"
    }
   ],
   "source": [
    "#Filter on the 'Not assigned values'\n",
    "Neigh_filtr = table[table['Neighborhood'] == 'Not assigned'].index\n",
    "Neigh_filtr.shape"
   ]
  },
  {
   "cell_type": "code",
   "execution_count": 11,
   "metadata": {},
   "outputs": [
    {
     "data": {
      "text/plain": [
       "(77,)"
      ]
     },
     "execution_count": 11,
     "metadata": {},
     "output_type": "execute_result"
    }
   ],
   "source": [
    "Borough_filtr = table[table['Borough'] == 'Not assigned'].index\n",
    "Borough_filtr.shape"
   ]
  },
  {
   "cell_type": "code",
   "execution_count": 12,
   "metadata": {},
   "outputs": [],
   "source": [
    "#Apparently, the same postal code that have not been assigned a borough has not been assigned a neighborhood either"
   ]
  },
  {
   "cell_type": "code",
   "execution_count": 13,
   "metadata": {},
   "outputs": [
    {
     "data": {
      "text/html": [
       "<div>\n",
       "<style scoped>\n",
       "    .dataframe tbody tr th:only-of-type {\n",
       "        vertical-align: middle;\n",
       "    }\n",
       "\n",
       "    .dataframe tbody tr th {\n",
       "        vertical-align: top;\n",
       "    }\n",
       "\n",
       "    .dataframe thead th {\n",
       "        text-align: right;\n",
       "    }\n",
       "</style>\n",
       "<table border=\"1\" class=\"dataframe\">\n",
       "  <thead>\n",
       "    <tr style=\"text-align: right;\">\n",
       "      <th></th>\n",
       "      <th>PostalCode</th>\n",
       "      <th>Borough</th>\n",
       "      <th>Neighborhood</th>\n",
       "    </tr>\n",
       "  </thead>\n",
       "  <tbody>\n",
       "    <tr>\n",
       "      <td>0</td>\n",
       "      <td>M3A</td>\n",
       "      <td>North York</td>\n",
       "      <td>Parkwoods</td>\n",
       "    </tr>\n",
       "    <tr>\n",
       "      <td>1</td>\n",
       "      <td>M4A</td>\n",
       "      <td>North York</td>\n",
       "      <td>Victoria Village</td>\n",
       "    </tr>\n",
       "    <tr>\n",
       "      <td>2</td>\n",
       "      <td>M5A</td>\n",
       "      <td>Downtown Toronto</td>\n",
       "      <td>Regent Park, Harbourfront</td>\n",
       "    </tr>\n",
       "    <tr>\n",
       "      <td>3</td>\n",
       "      <td>M6A</td>\n",
       "      <td>North York</td>\n",
       "      <td>Lawrence Manor, Lawrence Heights</td>\n",
       "    </tr>\n",
       "    <tr>\n",
       "      <td>4</td>\n",
       "      <td>M7A</td>\n",
       "      <td>Downtown Toronto</td>\n",
       "      <td>Queen's Park, Ontario Provincial Government</td>\n",
       "    </tr>\n",
       "  </tbody>\n",
       "</table>\n",
       "</div>"
      ],
      "text/plain": [
       "  PostalCode           Borough                                 Neighborhood\n",
       "0        M3A        North York                                    Parkwoods\n",
       "1        M4A        North York                             Victoria Village\n",
       "2        M5A  Downtown Toronto                    Regent Park, Harbourfront\n",
       "3        M6A        North York             Lawrence Manor, Lawrence Heights\n",
       "4        M7A  Downtown Toronto  Queen's Park, Ontario Provincial Government"
      ]
     },
     "execution_count": 13,
     "metadata": {},
     "output_type": "execute_result"
    }
   ],
   "source": [
    "index_filt = table[table['Borough']=='Not assigned'].index\n",
    "table.drop(index_filt, inplace=True)\n",
    "table.reset_index(drop=True, inplace=True)\n",
    "table.head()"
   ]
  },
  {
   "cell_type": "code",
   "execution_count": 14,
   "metadata": {},
   "outputs": [
    {
     "data": {
      "text/plain": [
       "(0,)"
      ]
     },
     "execution_count": 14,
     "metadata": {},
     "output_type": "execute_result"
    }
   ],
   "source": [
    "#Confirming that every postal code listed was assigned a neighborhood in the dataframe\n",
    "Neigh_filtr = table[table['Neighborhood'] == 'Not assigned'].index\n",
    "Neigh_filtr.shape"
   ]
  },
  {
   "cell_type": "code",
   "execution_count": 15,
   "metadata": {},
   "outputs": [
    {
     "data": {
      "text/plain": [
       "(0,)"
      ]
     },
     "execution_count": 15,
     "metadata": {},
     "output_type": "execute_result"
    }
   ],
   "source": [
    "#Confirming that every postal code listed was assigned a borough in the dataframe\n",
    "Borough_filtr = table[table['Borough'] == 'Not assigned'].index\n",
    "Borough_filtr.shape"
   ]
  },
  {
   "cell_type": "markdown",
   "metadata": {},
   "source": [
    "**The cells below will add the geospatial coordinates to the dataframe per associated Postal Code**"
   ]
  },
  {
   "cell_type": "code",
   "execution_count": 16,
   "metadata": {},
   "outputs": [],
   "source": [
    "#Scraping the geospatial data from the web\n",
    "import requests # import \n",
    "\n",
    "req = requests. get('http://cocl.us/Geospatial_data')\n",
    "url_content = req.content\n",
    "csv_file = open('downloaded.csv', 'wb')\n",
    "csv_file.write(url_content)\n",
    "csv_file.close()"
   ]
  },
  {
   "cell_type": "code",
   "execution_count": 17,
   "metadata": {},
   "outputs": [
    {
     "data": {
      "text/html": [
       "<div>\n",
       "<style scoped>\n",
       "    .dataframe tbody tr th:only-of-type {\n",
       "        vertical-align: middle;\n",
       "    }\n",
       "\n",
       "    .dataframe tbody tr th {\n",
       "        vertical-align: top;\n",
       "    }\n",
       "\n",
       "    .dataframe thead th {\n",
       "        text-align: right;\n",
       "    }\n",
       "</style>\n",
       "<table border=\"1\" class=\"dataframe\">\n",
       "  <thead>\n",
       "    <tr style=\"text-align: right;\">\n",
       "      <th></th>\n",
       "      <th>Postal Code</th>\n",
       "      <th>Latitude</th>\n",
       "      <th>Longitude</th>\n",
       "    </tr>\n",
       "  </thead>\n",
       "  <tbody>\n",
       "    <tr>\n",
       "      <td>0</td>\n",
       "      <td>M1B</td>\n",
       "      <td>43.806686</td>\n",
       "      <td>-79.194353</td>\n",
       "    </tr>\n",
       "    <tr>\n",
       "      <td>1</td>\n",
       "      <td>M1C</td>\n",
       "      <td>43.784535</td>\n",
       "      <td>-79.160497</td>\n",
       "    </tr>\n",
       "    <tr>\n",
       "      <td>2</td>\n",
       "      <td>M1E</td>\n",
       "      <td>43.763573</td>\n",
       "      <td>-79.188711</td>\n",
       "    </tr>\n",
       "    <tr>\n",
       "      <td>3</td>\n",
       "      <td>M1G</td>\n",
       "      <td>43.770992</td>\n",
       "      <td>-79.216917</td>\n",
       "    </tr>\n",
       "    <tr>\n",
       "      <td>4</td>\n",
       "      <td>M1H</td>\n",
       "      <td>43.773136</td>\n",
       "      <td>-79.239476</td>\n",
       "    </tr>\n",
       "  </tbody>\n",
       "</table>\n",
       "</div>"
      ],
      "text/plain": [
       "  Postal Code   Latitude  Longitude\n",
       "0         M1B  43.806686 -79.194353\n",
       "1         M1C  43.784535 -79.160497\n",
       "2         M1E  43.763573 -79.188711\n",
       "3         M1G  43.770992 -79.216917\n",
       "4         M1H  43.773136 -79.239476"
      ]
     },
     "execution_count": 17,
     "metadata": {},
     "output_type": "execute_result"
    }
   ],
   "source": [
    "#Reading the coordinates into a Pandas dataframe\n",
    "coord = pd.read_csv('downloaded.csv')\n",
    "coord.head()"
   ]
  },
  {
   "cell_type": "code",
   "execution_count": 18,
   "metadata": {},
   "outputs": [
    {
     "data": {
      "text/plain": [
       "(103, 3)"
      ]
     },
     "execution_count": 18,
     "metadata": {},
     "output_type": "execute_result"
    }
   ],
   "source": [
    "coord.shape"
   ]
  },
  {
   "cell_type": "code",
   "execution_count": 19,
   "metadata": {},
   "outputs": [
    {
     "data": {
      "text/html": [
       "<div>\n",
       "<style scoped>\n",
       "    .dataframe tbody tr th:only-of-type {\n",
       "        vertical-align: middle;\n",
       "    }\n",
       "\n",
       "    .dataframe tbody tr th {\n",
       "        vertical-align: top;\n",
       "    }\n",
       "\n",
       "    .dataframe thead th {\n",
       "        text-align: right;\n",
       "    }\n",
       "</style>\n",
       "<table border=\"1\" class=\"dataframe\">\n",
       "  <thead>\n",
       "    <tr style=\"text-align: right;\">\n",
       "      <th></th>\n",
       "      <th>PostalCode</th>\n",
       "      <th>Borough</th>\n",
       "      <th>Neighborhood</th>\n",
       "      <th>Postal Code</th>\n",
       "      <th>Latitude</th>\n",
       "      <th>Longitude</th>\n",
       "    </tr>\n",
       "  </thead>\n",
       "  <tbody>\n",
       "    <tr>\n",
       "      <td>0</td>\n",
       "      <td>M3A</td>\n",
       "      <td>North York</td>\n",
       "      <td>Parkwoods</td>\n",
       "      <td>M3A</td>\n",
       "      <td>43.753259</td>\n",
       "      <td>-79.329656</td>\n",
       "    </tr>\n",
       "    <tr>\n",
       "      <td>1</td>\n",
       "      <td>M4A</td>\n",
       "      <td>North York</td>\n",
       "      <td>Victoria Village</td>\n",
       "      <td>M4A</td>\n",
       "      <td>43.725882</td>\n",
       "      <td>-79.315572</td>\n",
       "    </tr>\n",
       "    <tr>\n",
       "      <td>2</td>\n",
       "      <td>M5A</td>\n",
       "      <td>Downtown Toronto</td>\n",
       "      <td>Regent Park, Harbourfront</td>\n",
       "      <td>M5A</td>\n",
       "      <td>43.654260</td>\n",
       "      <td>-79.360636</td>\n",
       "    </tr>\n",
       "    <tr>\n",
       "      <td>3</td>\n",
       "      <td>M6A</td>\n",
       "      <td>North York</td>\n",
       "      <td>Lawrence Manor, Lawrence Heights</td>\n",
       "      <td>M6A</td>\n",
       "      <td>43.718518</td>\n",
       "      <td>-79.464763</td>\n",
       "    </tr>\n",
       "    <tr>\n",
       "      <td>4</td>\n",
       "      <td>M7A</td>\n",
       "      <td>Downtown Toronto</td>\n",
       "      <td>Queen's Park, Ontario Provincial Government</td>\n",
       "      <td>M7A</td>\n",
       "      <td>43.662301</td>\n",
       "      <td>-79.389494</td>\n",
       "    </tr>\n",
       "  </tbody>\n",
       "</table>\n",
       "</div>"
      ],
      "text/plain": [
       "  PostalCode           Borough                                 Neighborhood  \\\n",
       "0        M3A        North York                                    Parkwoods   \n",
       "1        M4A        North York                             Victoria Village   \n",
       "2        M5A  Downtown Toronto                    Regent Park, Harbourfront   \n",
       "3        M6A        North York             Lawrence Manor, Lawrence Heights   \n",
       "4        M7A  Downtown Toronto  Queen's Park, Ontario Provincial Government   \n",
       "\n",
       "  Postal Code   Latitude  Longitude  \n",
       "0         M3A  43.753259 -79.329656  \n",
       "1         M4A  43.725882 -79.315572  \n",
       "2         M5A  43.654260 -79.360636  \n",
       "3         M6A  43.718518 -79.464763  \n",
       "4         M7A  43.662301 -79.389494  "
      ]
     },
     "execution_count": 19,
     "metadata": {},
     "output_type": "execute_result"
    }
   ],
   "source": [
    "#Merging the two tables created in order to the coordinates associated with each postal code in Toronto\n",
    "final_table = pd.merge(table, coord, right_on='Postal Code', left_on='PostalCode')\n",
    "final_table.head()"
   ]
  },
  {
   "cell_type": "code",
   "execution_count": 20,
   "metadata": {},
   "outputs": [
    {
     "data": {
      "text/html": [
       "<div>\n",
       "<style scoped>\n",
       "    .dataframe tbody tr th:only-of-type {\n",
       "        vertical-align: middle;\n",
       "    }\n",
       "\n",
       "    .dataframe tbody tr th {\n",
       "        vertical-align: top;\n",
       "    }\n",
       "\n",
       "    .dataframe thead th {\n",
       "        text-align: right;\n",
       "    }\n",
       "</style>\n",
       "<table border=\"1\" class=\"dataframe\">\n",
       "  <thead>\n",
       "    <tr style=\"text-align: right;\">\n",
       "      <th></th>\n",
       "      <th>PostalCode</th>\n",
       "      <th>Borough</th>\n",
       "      <th>Neighborhood</th>\n",
       "      <th>Latitude</th>\n",
       "      <th>Longitude</th>\n",
       "    </tr>\n",
       "  </thead>\n",
       "  <tbody>\n",
       "    <tr>\n",
       "      <td>0</td>\n",
       "      <td>M3A</td>\n",
       "      <td>North York</td>\n",
       "      <td>Parkwoods</td>\n",
       "      <td>43.753259</td>\n",
       "      <td>-79.329656</td>\n",
       "    </tr>\n",
       "    <tr>\n",
       "      <td>1</td>\n",
       "      <td>M4A</td>\n",
       "      <td>North York</td>\n",
       "      <td>Victoria Village</td>\n",
       "      <td>43.725882</td>\n",
       "      <td>-79.315572</td>\n",
       "    </tr>\n",
       "    <tr>\n",
       "      <td>2</td>\n",
       "      <td>M5A</td>\n",
       "      <td>Downtown Toronto</td>\n",
       "      <td>Regent Park, Harbourfront</td>\n",
       "      <td>43.654260</td>\n",
       "      <td>-79.360636</td>\n",
       "    </tr>\n",
       "    <tr>\n",
       "      <td>3</td>\n",
       "      <td>M6A</td>\n",
       "      <td>North York</td>\n",
       "      <td>Lawrence Manor, Lawrence Heights</td>\n",
       "      <td>43.718518</td>\n",
       "      <td>-79.464763</td>\n",
       "    </tr>\n",
       "    <tr>\n",
       "      <td>4</td>\n",
       "      <td>M7A</td>\n",
       "      <td>Downtown Toronto</td>\n",
       "      <td>Queen's Park, Ontario Provincial Government</td>\n",
       "      <td>43.662301</td>\n",
       "      <td>-79.389494</td>\n",
       "    </tr>\n",
       "  </tbody>\n",
       "</table>\n",
       "</div>"
      ],
      "text/plain": [
       "  PostalCode           Borough                                 Neighborhood  \\\n",
       "0        M3A        North York                                    Parkwoods   \n",
       "1        M4A        North York                             Victoria Village   \n",
       "2        M5A  Downtown Toronto                    Regent Park, Harbourfront   \n",
       "3        M6A        North York             Lawrence Manor, Lawrence Heights   \n",
       "4        M7A  Downtown Toronto  Queen's Park, Ontario Provincial Government   \n",
       "\n",
       "    Latitude  Longitude  \n",
       "0  43.753259 -79.329656  \n",
       "1  43.725882 -79.315572  \n",
       "2  43.654260 -79.360636  \n",
       "3  43.718518 -79.464763  \n",
       "4  43.662301 -79.389494  "
      ]
     },
     "execution_count": 20,
     "metadata": {},
     "output_type": "execute_result"
    }
   ],
   "source": [
    "#Since there are two columns with the same the postal code information, we drop one of them\n",
    "final_table.pop('Postal Code')\n",
    "final_table.head()"
   ]
  },
  {
   "cell_type": "code",
   "execution_count": 21,
   "metadata": {},
   "outputs": [
    {
     "data": {
      "text/plain": [
       "(103, 5)"
      ]
     },
     "execution_count": 21,
     "metadata": {},
     "output_type": "execute_result"
    }
   ],
   "source": [
    "final_table.shape"
   ]
  },
  {
   "cell_type": "markdown",
   "metadata": {},
   "source": [
    "**Let's create a superimposed map of the neighborhoods of Toronto with the data we have**"
   ]
  },
  {
   "cell_type": "code",
   "execution_count": 22,
   "metadata": {},
   "outputs": [
    {
     "name": "stdout",
     "output_type": "stream",
     "text": [
      "Collecting package metadata (current_repodata.json): ...working... done\n",
      "Solving environment: ...working... done\n",
      "\n",
      "# All requested packages already installed.\n",
      "\n"
     ]
    }
   ],
   "source": [
    "# Required dependecies for a map\n",
    "!conda install -c conda-forge folium=0.5.0 --yes \n",
    "import folium # map rendering library"
   ]
  },
  {
   "cell_type": "code",
   "execution_count": 23,
   "metadata": {},
   "outputs": [],
   "source": [
    "final_table['BoroughDum']=final_table['Borough']\n",
    "kclusters=len(final_table['BoroughDum'].unique())"
   ]
  },
  {
   "cell_type": "code",
   "execution_count": 24,
   "metadata": {},
   "outputs": [
    {
     "data": {
      "text/html": [
       "<div>\n",
       "<style scoped>\n",
       "    .dataframe tbody tr th:only-of-type {\n",
       "        vertical-align: middle;\n",
       "    }\n",
       "\n",
       "    .dataframe tbody tr th {\n",
       "        vertical-align: top;\n",
       "    }\n",
       "\n",
       "    .dataframe thead th {\n",
       "        text-align: right;\n",
       "    }\n",
       "</style>\n",
       "<table border=\"1\" class=\"dataframe\">\n",
       "  <thead>\n",
       "    <tr style=\"text-align: right;\">\n",
       "      <th></th>\n",
       "      <th>PostalCode</th>\n",
       "      <th>Borough</th>\n",
       "      <th>Neighborhood</th>\n",
       "      <th>Latitude</th>\n",
       "      <th>Longitude</th>\n",
       "      <th>BoroughDum</th>\n",
       "    </tr>\n",
       "  </thead>\n",
       "  <tbody>\n",
       "    <tr>\n",
       "      <td>0</td>\n",
       "      <td>M3A</td>\n",
       "      <td>North York</td>\n",
       "      <td>Parkwoods</td>\n",
       "      <td>43.753259</td>\n",
       "      <td>-79.329656</td>\n",
       "      <td>0</td>\n",
       "    </tr>\n",
       "    <tr>\n",
       "      <td>1</td>\n",
       "      <td>M4A</td>\n",
       "      <td>North York</td>\n",
       "      <td>Victoria Village</td>\n",
       "      <td>43.725882</td>\n",
       "      <td>-79.315572</td>\n",
       "      <td>0</td>\n",
       "    </tr>\n",
       "    <tr>\n",
       "      <td>2</td>\n",
       "      <td>M5A</td>\n",
       "      <td>Downtown Toronto</td>\n",
       "      <td>Regent Park, Harbourfront</td>\n",
       "      <td>43.654260</td>\n",
       "      <td>-79.360636</td>\n",
       "      <td>1</td>\n",
       "    </tr>\n",
       "    <tr>\n",
       "      <td>3</td>\n",
       "      <td>M6A</td>\n",
       "      <td>North York</td>\n",
       "      <td>Lawrence Manor, Lawrence Heights</td>\n",
       "      <td>43.718518</td>\n",
       "      <td>-79.464763</td>\n",
       "      <td>0</td>\n",
       "    </tr>\n",
       "    <tr>\n",
       "      <td>4</td>\n",
       "      <td>M7A</td>\n",
       "      <td>Downtown Toronto</td>\n",
       "      <td>Queen's Park, Ontario Provincial Government</td>\n",
       "      <td>43.662301</td>\n",
       "      <td>-79.389494</td>\n",
       "      <td>1</td>\n",
       "    </tr>\n",
       "  </tbody>\n",
       "</table>\n",
       "</div>"
      ],
      "text/plain": [
       "  PostalCode           Borough                                 Neighborhood  \\\n",
       "0        M3A        North York                                    Parkwoods   \n",
       "1        M4A        North York                             Victoria Village   \n",
       "2        M5A  Downtown Toronto                    Regent Park, Harbourfront   \n",
       "3        M6A        North York             Lawrence Manor, Lawrence Heights   \n",
       "4        M7A  Downtown Toronto  Queen's Park, Ontario Provincial Government   \n",
       "\n",
       "    Latitude  Longitude  BoroughDum  \n",
       "0  43.753259 -79.329656           0  \n",
       "1  43.725882 -79.315572           0  \n",
       "2  43.654260 -79.360636           1  \n",
       "3  43.718518 -79.464763           0  \n",
       "4  43.662301 -79.389494           1  "
      ]
     },
     "execution_count": 24,
     "metadata": {},
     "output_type": "execute_result"
    }
   ],
   "source": [
    "final_table['BoroughDum'].replace(to_replace=['North York', 'Downtown Toronto', 'Etobicoke', 'Scarborough',\n",
    "       'East York', 'York', 'East Toronto', 'West Toronto',\n",
    "       'Central Toronto', 'Mississauga'], value=[0,1,2,3,4,5,6,7,8,9],inplace=True)\n",
    "final_table.head()\n"
   ]
  },
  {
   "cell_type": "code",
   "execution_count": 25,
   "metadata": {},
   "outputs": [
    {
     "name": "stdout",
     "output_type": "stream",
     "text": [
      "The geospatial coordinates of Toronto are 43.6534817, -79.3839347.\n"
     ]
    }
   ],
   "source": [
    "address = 'Toronto, CA'\n",
    "\n",
    "geolocator = Nominatim(user_agent=\"to_explorer\")\n",
    "location = geolocator.geocode(address)\n",
    "latitude = location.latitude\n",
    "longitude = location.longitude\n",
    "print('The geospatial coordinates of Toronto are {}, {}.'.format(latitude, longitude))"
   ]
  },
  {
   "cell_type": "code",
   "execution_count": 26,
   "metadata": {},
   "outputs": [
    {
     "data": {
      "text/html": [
       "<div style=\"width:100%;\"><div style=\"position:relative;width:100%;height:0;padding-bottom:60%;\"><span style=\"color:#565656\">Make this Notebook Trusted to load map: File -> Trust Notebook</span><iframe src=\"about:blank\" style=\"position:absolute;width:100%;height:100%;left:0;top:0;border:none !important;\" data-html=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 onload=\"this.contentDocument.open();this.contentDocument.write(atob(this.getAttribute('data-html')));this.contentDocument.close();\" allowfullscreen webkitallowfullscreen mozallowfullscreen></iframe></div></div>"
      ],
      "text/plain": [
       "<folium.folium.Map at 0x19c93677c08>"
      ]
     },
     "execution_count": 26,
     "metadata": {},
     "output_type": "execute_result"
    }
   ],
   "source": [
    "# create map\n",
    "map_clusters = folium.Map(location=[latitude, longitude], zoom_start=10)\n",
    "\n",
    "# set color scheme for the clusters\n",
    "x = np.arange(kclusters)\n",
    "ys = [i + x + (i*x)**2 for i in range(kclusters)]\n",
    "colors_array = cm.rainbow(np.linspace(0, 1, len(ys)))\n",
    "rainbow = [colors.rgb2hex(i) for i in colors_array]\n",
    "\n",
    "# add markers to the map\n",
    "markers_colors = []\n",
    "for lat, lon, poi, cluster in zip(final_table['Latitude'], final_table['Longitude'], final_table['Borough'], final_table['BoroughDum']):\n",
    "    label = folium.Popup(str(poi) + ' Neighborhood ' + str(cluster), parse_html=True)\n",
    "    folium.CircleMarker(\n",
    "        [lat, lon],\n",
    "        radius=5,\n",
    "        popup=label,\n",
    "        color=rainbow[cluster-1],\n",
    "        fill=True,\n",
    "        fill_color=rainbow[cluster-1],\n",
    "        fill_opacity=0.7).add_to(map_clusters)\n",
    "       \n",
    "map_clusters"
   ]
  },
  {
   "cell_type": "code",
   "execution_count": null,
   "metadata": {},
   "outputs": [],
   "source": []
  }
 ],
 "metadata": {
  "kernelspec": {
   "display_name": "Python 3",
   "language": "python",
   "name": "python3"
  },
  "language_info": {
   "codemirror_mode": {
    "name": "ipython",
    "version": 3
   },
   "file_extension": ".py",
   "mimetype": "text/x-python",
   "name": "python",
   "nbconvert_exporter": "python",
   "pygments_lexer": "ipython3",
   "version": "3.7.4"
  }
 },
 "nbformat": 4,
 "nbformat_minor": 1
}
